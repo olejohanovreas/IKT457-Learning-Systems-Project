{
 "cells": [
  {
   "cell_type": "code",
   "execution_count": 22,
   "id": "7c6a3df2019381a2",
   "metadata": {
    "ExecuteTime": {
     "end_time": "2024-12-20T11:19:27.859134Z",
     "start_time": "2024-12-20T11:19:27.855360Z"
    }
   },
   "outputs": [],
   "source": [
    "import random\n",
    "import pandas as pd\n",
    "import os"
   ]
  },
  {
   "cell_type": "code",
   "execution_count": 23,
   "id": "38fa812e65509c40",
   "metadata": {
    "ExecuteTime": {
     "end_time": "2024-12-20T11:19:27.880655Z",
     "start_time": "2024-12-20T11:19:27.875015Z"
    }
   },
   "outputs": [],
   "source": [
    "def has_x_path(board):\n",
    "    start_positions = [(0, c) for c in range(board_size) if board[0][c] == 'X']\n",
    "    visited = set()\n",
    "    stack = start_positions\n",
    "    while stack:\n",
    "        r, c = stack.pop()\n",
    "        if (r, c) in visited:\n",
    "            continue\n",
    "        visited.add((r, c))\n",
    "        if r == board_size - 1:\n",
    "            return True\n",
    "        for nr, nc in neighbors(r, c, board_size):\n",
    "            if board[nr][nc] == 'X' and (nr, nc) not in visited:\n",
    "                stack.append((nr, nc))\n",
    "    return False"
   ]
  },
  {
   "cell_type": "code",
   "execution_count": 24,
   "id": "3d1cbbf748280556",
   "metadata": {
    "ExecuteTime": {
     "end_time": "2024-12-20T11:19:27.918176Z",
     "start_time": "2024-12-20T11:19:27.913512Z"
    }
   },
   "outputs": [],
   "source": [
    "def has_o_path(board):\n",
    "    start_positions = [(r, 0) for r in range(board_size) if board[r][0] == 'O']\n",
    "    visited = set()\n",
    "    stack = start_positions\n",
    "    while stack:\n",
    "        r, c = stack.pop()\n",
    "        if (r, c) in visited:\n",
    "            continue\n",
    "        visited.add((r, c))\n",
    "        if c == board_size - 1:\n",
    "            return True\n",
    "        for nr, nc in neighbors(r, c, board_size):\n",
    "            if board[nr][nc] == 'O' and (nr, nc) not in visited:\n",
    "                stack.append((nr, nc))\n",
    "    return False"
   ]
  },
  {
   "cell_type": "code",
   "execution_count": 25,
   "id": "2aa9aa5f08c1ab45",
   "metadata": {
    "ExecuteTime": {
     "end_time": "2024-12-20T11:19:27.943808Z",
     "start_time": "2024-12-20T11:19:27.940560Z"
    }
   },
   "outputs": [],
   "source": [
    "def board_to_string(board):\n",
    "    return ''.join(''.join(row) for row in board)"
   ]
  },
  {
   "cell_type": "code",
   "execution_count": 26,
   "id": "8d2e9bea87f8a4c9",
   "metadata": {
    "ExecuteTime": {
     "end_time": "2024-12-20T11:19:27.986141Z",
     "start_time": "2024-12-20T11:19:27.979025Z"
    }
   },
   "outputs": [],
   "source": [
    "def simulate_game(board_size):\n",
    "    board = [['E' for _ in range(board_size)] for _ in range(board_size)]\n",
    "    current_player = random.choice(['X', 'O'])\n",
    "    empty_cells = [(r, c) for r in range(board_size) for c in range(board_size)]\n",
    "\n",
    "    while empty_cells:\n",
    "        r, c = random.choice(empty_cells)\n",
    "        empty_cells.remove((r, c))\n",
    "        board[r][c] = current_player\n",
    "\n",
    "        if current_player == 'X' and has_x_path(board):\n",
    "            return board, 0  # X winner\n",
    "        elif current_player == 'O' and has_o_path(board):\n",
    "            return board, 1  # O winner\n",
    "\n",
    "        current_player = 'O' if current_player == 'X' else 'X'\n",
    "\n",
    "    return None, None"
   ]
  },
  {
   "cell_type": "code",
   "execution_count": 27,
   "id": "fbb7bf9578397648",
   "metadata": {
    "ExecuteTime": {
     "end_time": "2024-12-20T11:19:28.012042Z",
     "start_time": "2024-12-20T11:19:28.008642Z"
    }
   },
   "outputs": [],
   "source": [
    "def neighbors(r, c, size):\n",
    "    # Hex-like neighbors (6 directions in a hex grid):\n",
    "    # Adjust according to your hex definition.\n",
    "    # For standard \"hex\" connectivity, consider the following:\n",
    "    # On a hex board represented in a 2D array,\n",
    "    # neighbors could be something like (r-1,c), (r+1,c), (r,c-1), (r,c+1), (r-1,c+1), (r+1,c-1)\n",
    "    # Adjusted here for a hex-shaped connection on a rectangular board.\n",
    "    directions = [\n",
    "        (-1, 0),\n",
    "        (1, 0),\n",
    "        (0, -1),\n",
    "        (0, 1),\n",
    "        (-1, 1),\n",
    "        (1, -1)\n",
    "    ]\n",
    "    for dr, dc in directions:\n",
    "        nr, nc = r + dr, c + dc\n",
    "        if 0 <= nr < size and 0 <= nc < size:\n",
    "            yield nr, nc\n"
   ]
  },
  {
   "cell_type": "code",
   "execution_count": 28,
   "id": "f59fd0579e8530d8",
   "metadata": {
    "ExecuteTime": {
     "end_time": "2024-12-20T11:19:28.159677Z",
     "start_time": "2024-12-20T11:19:28.049248Z"
    }
   },
   "outputs": [
    {
     "name": "stdout",
     "output_type": "stream",
     "text": [
      "Removed hex_data.csv\n",
      "Collected 100 / 1000 samples.\n",
      "Collected 200 / 1000 samples.\n",
      "Collected 300 / 1000 samples.\n",
      "Collected 400 / 1000 samples.\n",
      "Collected 500 / 1000 samples.\n",
      "Collected 600 / 1000 samples.\n",
      "Collected 700 / 1000 samples.\n",
      "Collected 800 / 1000 samples.\n",
      "Collected 900 / 1000 samples.\n",
      "Collected 1000 / 1000 samples.\n",
      "Generated 4x4 balanced dataset (500 X wins and 500 O wins) saved as hex_data.csv\n"
     ]
    }
   ],
   "source": [
    "# Parameters\n",
    "board_size = 4\n",
    "num_samples = 2000\n",
    "desired_per_class = num_samples // 2  # 1000 X winners and 1000 O winners\n",
    "\n",
    "rows = []\n",
    "count_x = 0\n",
    "count_o = 0\n",
    "\n",
    "if os.path.exists(\"hex_data.csv\"):\n",
    "    os.remove(\"hex_data.csv\")\n",
    "    print(\"Removed hex_data.csv\")\n",
    "\n",
    "while count_x < desired_per_class or count_o < desired_per_class:\n",
    "    final_board, label = simulate_game(board_size)\n",
    "    if final_board is not None:\n",
    "        if label == 0 and count_x < desired_per_class:  # X winner\n",
    "            board_str = board_to_string(final_board)\n",
    "            rows.append((board_str, label))\n",
    "            count_x += 1\n",
    "        elif label == 1 and count_o < desired_per_class:  # O winner\n",
    "            board_str = board_to_string(final_board)\n",
    "            rows.append((board_str, label))\n",
    "            count_o += 1\n",
    "\n",
    "    # Print progress every 100 samples collected\n",
    "    total_collected = count_x + count_o\n",
    "    if total_collected % 100 == 0:\n",
    "        print(f\"Collected {total_collected} / {num_samples} samples.\")\n",
    "\n",
    "df = pd.DataFrame(rows)\n",
    "df.to_csv(\"hex_data.csv\", index=False)\n",
    "print(f\"Generated {board_size}x{board_size} balanced dataset ({count_x} X wins and {count_o} O wins) saved as hex_data.csv\")"
   ]
  }
 ],
 "metadata": {
  "kernelspec": {
   "display_name": "Python 3 (ipykernel)",
   "language": "python",
   "name": "python3"
  },
  "language_info": {
   "codemirror_mode": {
    "name": "ipython",
    "version": 3
   },
   "file_extension": ".py",
   "mimetype": "text/x-python",
   "name": "python",
   "nbconvert_exporter": "python",
   "pygments_lexer": "ipython3",
   "version": "3.11.6"
  }
 },
 "nbformat": 4,
 "nbformat_minor": 5
}
