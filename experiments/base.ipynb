{
 "cells": [
  {
   "cell_type": "code",
   "execution_count": 20,
   "id": "initial_id",
   "metadata": {
    "ExecuteTime": {
     "end_time": "2024-12-18T10:45:04.920939Z",
     "start_time": "2024-12-18T10:45:04.915921Z"
    },
    "collapsed": true
   },
   "outputs": [
    {
     "name": "stdout",
     "output_type": "stream",
     "text": [
      "Number of boards: 3000\n",
      "First board: OXXEOOOXEXXOXXEOOXEOEXXOO\n",
      "First label: 0\n",
      "Training samples:  2700\n",
      "Test samples:  300\n",
      "First training board:  OXXEOOOXEXXOXXEOOXEOEXXOO\n",
      "First training label:  0\n",
      "First test board:  XOXOOXOOXXXOEXXOOOXXOOOEX\n",
      "First test label:  1\n"
     ]
    }
   ],
   "source": [
    "from modules.dataloader import load_data\n",
    "\n",
    "boards_train, labels_train, boards_test, labels_test = load_data(\"../hex_data.csv\", 0.9)\n",
    "dimensions = 5"
   ]
  },
  {
   "cell_type": "code",
   "execution_count": 21,
   "id": "96311b371f439873",
   "metadata": {
    "ExecuteTime": {
     "end_time": "2024-12-18T10:45:08.612640Z",
     "start_time": "2024-12-18T10:45:04.943143Z"
    }
   },
   "outputs": [],
   "source": [
    "# setting up training graphs\n",
    "\n",
    "from GraphTsetlinMachine.graphs import Graphs\n",
    "\n",
    "#symbols for nodes\n",
    "symbols = [\"X\", \"O\", \"E\"]\n",
    "\n",
    "#initialize the graphs object\n",
    "graphs_train = Graphs(\n",
    "    number_of_graphs=len(boards_train),\n",
    "    symbols=symbols\n",
    ")\n",
    "\n",
    "#e.g. 49 for 7x7 board\n",
    "number_of_nodes = dimensions * dimensions\n",
    "\n",
    "#set the number of nodes for each graph\n",
    "for graph_id in range(len(boards_train)):\n",
    "    graphs_train.set_number_of_graph_nodes(graph_id, number_of_nodes)\n",
    "\n",
    "\n",
    "#function to get neighbors of a node (cell)\n",
    "def get_neighbors(row, column, dimensions):\n",
    "    neighbors = []\n",
    "    potential_neighbors = [\n",
    "        (row - 1, column),  #north-west\n",
    "        (row + 1, column),  #south-east\n",
    "        (row, column - 1),  #west\n",
    "        (row, column + 1),  #east\n",
    "        (row - 1, column + 1),  #north-east\n",
    "        (row + 1, column - 1),  #south-west\n",
    "    ]\n",
    "\n",
    "    for neighbor_row, neighbor_column in potential_neighbors:\n",
    "        if 0 <= neighbor_row < dimensions and 0 <= neighbor_column < dimensions:\n",
    "            neighbors.append((neighbor_row, neighbor_column))\n",
    "\n",
    "    return neighbors\n",
    "\n",
    "\n",
    "graphs_train.prepare_node_configuration()\n",
    "\n",
    "#add the nodes to each graph\n",
    "for graph_id, board in enumerate(boards_train):\n",
    "    for node_id in range(number_of_nodes):\n",
    "        row = node_id // dimensions\n",
    "        column = node_id % dimensions\n",
    "        neighbors = get_neighbors(row, column, dimensions)\n",
    "\n",
    "        graphs_train.add_graph_node(graph_id, node_id, len(neighbors))\n",
    "\n",
    "graphs_train.prepare_edge_configuration()\n",
    "\n",
    "#add the edges\n",
    "for graph_id, board in enumerate(boards_train):\n",
    "    for node_id in range(number_of_nodes):\n",
    "        row = node_id // dimensions\n",
    "        column = node_id % dimensions\n",
    "        neighbors = get_neighbors(row, column, dimensions)\n",
    "\n",
    "        for (neighbor_row, neighbor_column) in neighbors:\n",
    "            neighbor_id = neighbor_row * dimensions + neighbor_column\n",
    "\n",
    "            graphs_train.add_graph_node_edge(graph_id, node_id, neighbor_id, \"adjacent_cell\")\n",
    "\n",
    "#add the node properties\n",
    "for graph_id, board in enumerate(boards_train):\n",
    "    for node_id in range(number_of_nodes):\n",
    "        row = node_id // dimensions\n",
    "        column = node_id % dimensions\n",
    "\n",
    "        #X means cell is occupied by player 0, O is player 1, and E is empty\n",
    "        cell_value = board[node_id]\n",
    "        if cell_value == 'X':\n",
    "            graphs_train.add_graph_node_property(graph_id, node_id, \"X\")\n",
    "        elif cell_value == 'O':\n",
    "            graphs_train.add_graph_node_property(graph_id, node_id, \"O\")\n",
    "        elif cell_value == 'E':\n",
    "            graphs_train.add_graph_node_property(graph_id, node_id, \"E\")\n",
    "\n",
    "graphs_train.encode()"
   ]
  },
  {
   "cell_type": "code",
   "execution_count": 22,
   "id": "bd0b3e26b74376e8",
   "metadata": {
    "ExecuteTime": {
     "end_time": "2024-12-18T10:45:09.046357Z",
     "start_time": "2024-12-18T10:45:08.639448Z"
    }
   },
   "outputs": [],
   "source": [
    "#setting up the test graphs\n",
    "#its the same as the training graphs but we need to set them up separately\n",
    "\n",
    "graphs_test = Graphs(\n",
    "    number_of_graphs=len(boards_test),\n",
    "    init_with=graphs_train\n",
    ")\n",
    "\n",
    "for graph_id in range(len(boards_test)):\n",
    "    graphs_test.set_number_of_graph_nodes(graph_id, number_of_nodes)\n",
    "\n",
    "graphs_test.prepare_node_configuration()\n",
    "\n",
    "#add nodes\n",
    "for graph_id, board in enumerate(boards_test):\n",
    "    for node_id in range(number_of_nodes):\n",
    "        row = node_id // dimensions\n",
    "        column = node_id % dimensions\n",
    "        neighbors = get_neighbors(row, column, dimensions)\n",
    "\n",
    "        graphs_test.add_graph_node(graph_id, node_id, len(neighbors))\n",
    "\n",
    "graphs_test.prepare_edge_configuration()\n",
    "\n",
    "#add node edges\n",
    "for graph_id, board in enumerate(boards_test):\n",
    "    for node_id in range(number_of_nodes):\n",
    "        row = node_id // dimensions\n",
    "        column = node_id % dimensions\n",
    "        neighbors = get_neighbors(row, column, dimensions)\n",
    "\n",
    "        for (neighbor_row, neighbor_column) in neighbors:\n",
    "            neighbor_id = neighbor_row * dimensions + neighbor_column\n",
    "\n",
    "            graphs_test.add_graph_node_edge(graph_id, node_id, neighbor_id, \"adjacent_cell\")\n",
    "\n",
    "#add node properties\n",
    "for graph_id, board in enumerate(boards_test):\n",
    "    for node_id in range(number_of_nodes):\n",
    "        row = node_id // dimensions\n",
    "        column = node_id % dimensions\n",
    "        cell_value = board[node_id]\n",
    "\n",
    "        if cell_value == 'X':\n",
    "            graphs_test.add_graph_node_property(graph_id, node_id, \"X\")\n",
    "        elif cell_value == 'O':\n",
    "            graphs_test.add_graph_node_property(graph_id, node_id, \"O\")\n",
    "        elif cell_value == 'E':\n",
    "            graphs_test.add_graph_node_property(graph_id, node_id, \"E\")\n",
    "\n",
    "graphs_test.encode()"
   ]
  },
  {
   "cell_type": "code",
   "execution_count": 23,
   "id": "f83b791ac0ea4195",
   "metadata": {
    "ExecuteTime": {
     "end_time": "2024-12-18T10:46:28.913927Z",
     "start_time": "2024-12-18T10:45:09.154915Z"
    }
   },
   "outputs": [
    {
     "name": "stdout",
     "output_type": "stream",
     "text": [
      "Initialization of sparse structure.\n"
     ]
    },
    {
     "data": {
      "application/vnd.jupyter.widget-view+json": {
       "model_id": "c8a42e10d876436097f3562b3f554efe",
       "version_major": 2,
       "version_minor": 0
      },
      "text/plain": [
       "FigureWidget({\n",
       "    'data': [{'mode': 'lines',\n",
       "              'name': 'Training Accuracy',\n",
       "              'type': 'scatter',\n",
       "              'uid': '97afa450-b61e-4685-97cf-633e6c8e7921',\n",
       "              'x': [],\n",
       "              'y': []},\n",
       "             {'mode': 'lines',\n",
       "              'name': 'Testing Accuracy',\n",
       "              'type': 'scatter',\n",
       "              'uid': 'e0f00ac8-e4b2-4317-a943-9e837c1af382',\n",
       "              'x': [],\n",
       "              'y': []},\n",
       "             {'line': {'color': 'gray', 'dash': 'dash'},\n",
       "              'mode': 'lines',\n",
       "              'name': 'Test Regression',\n",
       "              'type': 'scatter',\n",
       "              'uid': '8ece934a-ce6d-49c1-b442-ae086eb84385',\n",
       "              'x': [],\n",
       "              'y': []}],\n",
       "    'layout': {'annotations': [{'font': {'size': 18},\n",
       "                                'showarrow': False,\n",
       "                                'text': 'Train: - , Test: -',\n",
       "                                'x': 0.5,\n",
       "                                'xref': 'paper',\n",
       "                                'y': 1.2,\n",
       "                                'yref': 'paper'}],\n",
       "               'template': '...',\n",
       "               'title': {'text': 'Training and Testing Accuracy, 5x5'},\n",
       "               'xaxis': {'title': {'text': 'Epoch'}},\n",
       "               'yaxis': {'title': {'text': 'Accuracy'}}}\n",
       "})"
      ]
     },
     "metadata": {},
     "output_type": "display_data"
    }
   ],
   "source": [
    "#training logic\n",
    "from modules.trainer import train\n",
    "\n",
    "train(\n",
    "    graphs_train=graphs_train,\n",
    "    labels_train=labels_train,\n",
    "    graphs_test=graphs_test,\n",
    "    labels_test=labels_test,\n",
    "    dimensions=dimensions,\n",
    "    number_of_clauses=500,\n",
    "    T=5000,\n",
    "    s=1.0,\n",
    "    depth=2,\n",
    "    accuracy_threshhold=1,\n",
    "    epochs=50\n",
    ")"
   ]
  }
 ],
 "metadata": {
  "kernelspec": {
   "display_name": "Python 3",
   "language": "python",
   "name": "python3"
  },
  "language_info": {
   "codemirror_mode": {
    "name": "ipython",
    "version": 2
   },
   "file_extension": ".py",
   "mimetype": "text/x-python",
   "name": "python",
   "nbconvert_exporter": "python",
   "pygments_lexer": "ipython2",
   "version": "2.7.6"
  }
 },
 "nbformat": 4,
 "nbformat_minor": 5
}
