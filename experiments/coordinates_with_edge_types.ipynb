{
 "cells": [
  {
   "cell_type": "code",
   "execution_count": 84,
   "id": "initial_id",
   "metadata": {
    "ExecuteTime": {
     "end_time": "2024-12-18T13:15:37.878006Z",
     "start_time": "2024-12-18T13:15:37.859977Z"
    },
    "collapsed": true
   },
   "outputs": [
    {
     "name": "stdout",
     "output_type": "stream",
     "text": [
      "Number of boards: 25000\n",
      "First board: OXXOXXXXOOEXXOOOOXOXEOOOX\n",
      "First label: 1\n",
      "Training samples:  22500\n",
      "Test samples:  2500\n",
      "First training board:  OXXOXXXXOOEXXOOOOXOXEOOOX\n",
      "First training label:  1\n",
      "First test board:  XXOXXOOOOXOOXXOXXOOXOXXOX\n",
      "First test label:  0\n"
     ]
    }
   ],
   "source": [
    "from modules.dataloader import load_data\n",
    "\n",
    "boards_train, labels_train, boards_test, labels_test = load_data(\"../hex_data.csv\", 0.9)\n",
    "dimensions = 5"
   ]
  },
  {
   "cell_type": "code",
   "execution_count": 85,
   "id": "96311b371f439873",
   "metadata": {
    "ExecuteTime": {
     "end_time": "2024-12-18T13:16:15.926749Z",
     "start_time": "2024-12-18T13:15:37.889699Z"
    }
   },
   "outputs": [],
   "source": [
    "# setting up training graphs\n",
    "\n",
    "from GraphTsetlinMachine.graphs import Graphs\n",
    "\n",
    "#symbols for nodes\n",
    "symbols = [\"X\", \"O\", \"E\"]\n",
    "for i in range(dimensions):\n",
    "    symbols.append(f\"Row:{i}\")\n",
    "    symbols.append(f\"Column:{i}\")\n",
    "\n",
    "#initialize the graphs object\n",
    "graphs_train = Graphs(\n",
    "    number_of_graphs=len(boards_train),\n",
    "    symbols=symbols\n",
    ")\n",
    "\n",
    "#e.g. 49 for 7x7 board\n",
    "number_of_nodes = dimensions * dimensions\n",
    "\n",
    "#set the number of nodes for each graph\n",
    "for graph_id in range(len(boards_train)):\n",
    "    graphs_train.set_number_of_graph_nodes(graph_id, number_of_nodes)\n",
    "\n",
    "direction_map = {\n",
    "    (-1, 0): \"NWEdge\",\n",
    "    (1, 0): \"SEEdge\",\n",
    "    (0, -1): \"WEdge\",\n",
    "    (0, 1): \"EEdge\",\n",
    "    (-1, 1): \"NEEdge\",\n",
    "    (1, -1): \"SWEdge\"\n",
    "}\n",
    "\n",
    "#function to get neighbors of a node (cell)\n",
    "def get_neighbors(row, column, dimensions):\n",
    "    neighbors = []\n",
    "    potential_neighbors = [\n",
    "        (row - 1, column),  #north-west\n",
    "        (row + 1, column),  #south-east\n",
    "        (row, column - 1),  #west\n",
    "        (row, column + 1),  #east\n",
    "        (row - 1, column + 1),  #north-east\n",
    "        (row + 1, column - 1),  #south-west\n",
    "    ]\n",
    "\n",
    "\n",
    "    for neighbor_row, neighbor_column in potential_neighbors:\n",
    "        if 0 <= neighbor_row < dimensions and 0 <= neighbor_column < dimensions:\n",
    "            neighbors.append((neighbor_row, neighbor_column))\n",
    "\n",
    "    return neighbors\n",
    "\n",
    "\n",
    "graphs_train.prepare_node_configuration()\n",
    "\n",
    "#add the nodes to each graph\n",
    "for graph_id, board in enumerate(boards_train):\n",
    "    for node_id in range(number_of_nodes):\n",
    "        row = node_id // dimensions\n",
    "        column = node_id % dimensions\n",
    "        neighbors = get_neighbors(row, column, dimensions)\n",
    "\n",
    "        graphs_train.add_graph_node(graph_id, node_id, len(neighbors))\n",
    "\n",
    "graphs_train.prepare_edge_configuration()\n",
    "\n",
    "#add the edges\n",
    "for graph_id, board in enumerate(boards_train):\n",
    "    for node_id in range(number_of_nodes):\n",
    "        row = node_id // dimensions\n",
    "        column = node_id % dimensions\n",
    "        neighbors = get_neighbors(row, column, dimensions)\n",
    "\n",
    "        for (neighbor_row, neighbor_column) in neighbors:\n",
    "            neighbor_id = neighbor_row * dimensions + neighbor_column\n",
    "            dr = neighbor_row - row\n",
    "            dc = neighbor_column - column\n",
    "            edge_type = direction_map[(dr, dc)]\n",
    "            graphs_train.add_graph_node_edge(graph_id, node_id, neighbor_id, edge_type)\n",
    "\n",
    "\n",
    "#add the node properties\n",
    "for graph_id, board in enumerate(boards_train):\n",
    "    for node_id in range(number_of_nodes):\n",
    "        row = node_id // dimensions\n",
    "        column = node_id % dimensions\n",
    "\n",
    "        #X means cell is occupied by player 0, O is player 1, and E is empty\n",
    "        cell_value = board[node_id]\n",
    "        if cell_value == 'X':\n",
    "            graphs_train.add_graph_node_property(graph_id, node_id, \"X\")\n",
    "        elif cell_value == 'O':\n",
    "            graphs_train.add_graph_node_property(graph_id, node_id, \"O\")\n",
    "        elif cell_value == 'E':\n",
    "            graphs_train.add_graph_node_property(graph_id, node_id, \"E\")\n",
    "\n",
    "        graphs_train.add_graph_node_property(graph_id, node_id, f\"Row:{row}\")\n",
    "        graphs_train.add_graph_node_property(graph_id, node_id, f\"Column:{column}\")\n",
    "\n",
    "graphs_train.encode()"
   ]
  },
  {
   "cell_type": "code",
   "execution_count": 86,
   "id": "bd0b3e26b74376e8",
   "metadata": {
    "ExecuteTime": {
     "end_time": "2024-12-18T13:16:20.240622Z",
     "start_time": "2024-12-18T13:16:15.971552Z"
    }
   },
   "outputs": [],
   "source": [
    "#setting up the test graphs\n",
    "#its the same as the training graphs but we need to set them up separately\n",
    "\n",
    "graphs_test = Graphs(\n",
    "    number_of_graphs=len(boards_test),\n",
    "    init_with=graphs_train\n",
    ")\n",
    "\n",
    "for graph_id in range(len(boards_test)):\n",
    "    graphs_test.set_number_of_graph_nodes(graph_id, number_of_nodes)\n",
    "\n",
    "graphs_test.prepare_node_configuration()\n",
    "\n",
    "#add nodes\n",
    "for graph_id, board in enumerate(boards_test):\n",
    "    for node_id in range(number_of_nodes):\n",
    "        row = node_id // dimensions\n",
    "        column = node_id % dimensions\n",
    "        neighbors = get_neighbors(row, column, dimensions)\n",
    "\n",
    "        graphs_test.add_graph_node(graph_id, node_id, len(neighbors))\n",
    "\n",
    "graphs_test.prepare_edge_configuration()\n",
    "\n",
    "#add node edges\n",
    "for graph_id, board in enumerate(boards_test):\n",
    "    for node_id in range(number_of_nodes):\n",
    "        row = node_id // dimensions\n",
    "        column = node_id % dimensions\n",
    "        neighbors = get_neighbors(row, column, dimensions)\n",
    "\n",
    "        for (neighbor_row, neighbor_column) in neighbors:\n",
    "            neighbor_id = neighbor_row * dimensions + neighbor_column\n",
    "            dr = neighbor_row - row\n",
    "            dc = neighbor_column - column\n",
    "            edge_type = direction_map[(dr, dc)]\n",
    "            graphs_test.add_graph_node_edge(graph_id, node_id, neighbor_id, edge_type)\n",
    "\n",
    "#add node properties\n",
    "for graph_id, board in enumerate(boards_test):\n",
    "    for node_id in range(number_of_nodes):\n",
    "        row = node_id // dimensions\n",
    "        column = node_id % dimensions\n",
    "        cell_value = board[node_id]\n",
    "\n",
    "        if cell_value == 'X':\n",
    "            graphs_test.add_graph_node_property(graph_id, node_id, \"X\")\n",
    "        elif cell_value == 'O':\n",
    "            graphs_test.add_graph_node_property(graph_id, node_id, \"O\")\n",
    "        elif cell_value == 'E':\n",
    "            graphs_test.add_graph_node_property(graph_id, node_id, \"E\")\n",
    "\n",
    "        graphs_test.add_graph_node_property(graph_id, node_id, f\"Row:{row}\")\n",
    "        graphs_test.add_graph_node_property(graph_id, node_id, f\"Column:{column}\")\n",
    "\n",
    "graphs_test.encode()"
   ]
  },
  {
   "cell_type": "code",
   "execution_count": 87,
   "id": "f83b791ac0ea4195",
   "metadata": {
    "ExecuteTime": {
     "end_time": "2024-12-18T13:17:13.336122Z",
     "start_time": "2024-12-18T13:16:20.273584Z"
    }
   },
   "outputs": [
    {
     "name": "stdout",
     "output_type": "stream",
     "text": [
      "Initialization of sparse structure.\n"
     ]
    },
    {
     "data": {
      "application/vnd.jupyter.widget-view+json": {
       "model_id": "3cc84d5834ab434bbace28f306faed25",
       "version_major": 2,
       "version_minor": 0
      },
      "text/plain": [
       "FigureWidget({\n",
       "    'data': [{'mode': 'lines',\n",
       "              'name': 'Training Accuracy',\n",
       "              'type': 'scatter',\n",
       "              'uid': '37553faf-ad0f-4042-bee0-5026b8af3ecd',\n",
       "              'x': [],\n",
       "              'y': []},\n",
       "             {'mode': 'lines',\n",
       "              'name': 'Testing Accuracy',\n",
       "              'type': 'scatter',\n",
       "              'uid': 'efac7e33-e180-4d12-8005-a978c20cf79d',\n",
       "              'x': [],\n",
       "              'y': []},\n",
       "             {'line': {'color': 'gray', 'dash': 'dash'},\n",
       "              'mode': 'lines',\n",
       "              'name': 'Test Regression',\n",
       "              'type': 'scatter',\n",
       "              'uid': '5142a508-f3f9-4286-b5a4-cbcad2602dc6',\n",
       "              'x': [],\n",
       "              'y': []}],\n",
       "    'layout': {'annotations': [{'font': {'size': 18},\n",
       "                                'showarrow': False,\n",
       "                                'text': 'Train: - , Test: -',\n",
       "                                'x': 0.5,\n",
       "                                'xref': 'paper',\n",
       "                                'y': 1.2,\n",
       "                                'yref': 'paper'}],\n",
       "               'template': '...',\n",
       "               'title': {'text': 'Training and Testing Accuracy, 5x5'},\n",
       "               'xaxis': {'title': {'text': 'Epoch'}},\n",
       "               'yaxis': {'title': {'text': 'Accuracy'}}}\n",
       "})"
      ]
     },
     "metadata": {},
     "output_type": "display_data"
    },
    {
     "ename": "KeyboardInterrupt",
     "evalue": "",
     "output_type": "error",
     "traceback": [
      "\u001b[0;31m---------------------------------------------------------------------------\u001b[0m",
      "\u001b[0;31mKeyboardInterrupt\u001b[0m                         Traceback (most recent call last)",
      "Cell \u001b[0;32mIn[87], line 4\u001b[0m\n\u001b[1;32m      1\u001b[0m \u001b[38;5;66;03m#training logic\u001b[39;00m\n\u001b[1;32m      2\u001b[0m \u001b[38;5;28;01mfrom\u001b[39;00m \u001b[38;5;21;01mmodules\u001b[39;00m\u001b[38;5;21;01m.\u001b[39;00m\u001b[38;5;21;01mtrainer\u001b[39;00m \u001b[38;5;28;01mimport\u001b[39;00m train\n\u001b[0;32m----> 4\u001b[0m \u001b[43mtrain\u001b[49m\u001b[43m(\u001b[49m\n\u001b[1;32m      5\u001b[0m \u001b[43m    \u001b[49m\u001b[43mgraphs_train\u001b[49m\u001b[38;5;241;43m=\u001b[39;49m\u001b[43mgraphs_train\u001b[49m\u001b[43m,\u001b[49m\n\u001b[1;32m      6\u001b[0m \u001b[43m    \u001b[49m\u001b[43mlabels_train\u001b[49m\u001b[38;5;241;43m=\u001b[39;49m\u001b[43mlabels_train\u001b[49m\u001b[43m,\u001b[49m\n\u001b[1;32m      7\u001b[0m \u001b[43m    \u001b[49m\u001b[43mgraphs_test\u001b[49m\u001b[38;5;241;43m=\u001b[39;49m\u001b[43mgraphs_test\u001b[49m\u001b[43m,\u001b[49m\n\u001b[1;32m      8\u001b[0m \u001b[43m    \u001b[49m\u001b[43mlabels_test\u001b[49m\u001b[38;5;241;43m=\u001b[39;49m\u001b[43mlabels_test\u001b[49m\u001b[43m,\u001b[49m\n\u001b[1;32m      9\u001b[0m \u001b[43m    \u001b[49m\u001b[43mdimensions\u001b[49m\u001b[38;5;241;43m=\u001b[39;49m\u001b[43mdimensions\u001b[49m\u001b[43m,\u001b[49m\n\u001b[1;32m     10\u001b[0m \u001b[43m    \u001b[49m\u001b[43mnumber_of_clauses\u001b[49m\u001b[38;5;241;43m=\u001b[39;49m\u001b[38;5;241;43m1400\u001b[39;49m\u001b[43m,\u001b[49m\n\u001b[1;32m     11\u001b[0m \u001b[43m    \u001b[49m\u001b[43mT\u001b[49m\u001b[38;5;241;43m=\u001b[39;49m\u001b[38;5;241;43m700\u001b[39;49m\u001b[43m,\u001b[49m\n\u001b[1;32m     12\u001b[0m \u001b[43m    \u001b[49m\u001b[43ms\u001b[49m\u001b[38;5;241;43m=\u001b[39;49m\u001b[38;5;241;43m1.0\u001b[39;49m\u001b[43m,\u001b[49m\n\u001b[1;32m     13\u001b[0m \u001b[43m    \u001b[49m\u001b[43mdepth\u001b[49m\u001b[38;5;241;43m=\u001b[39;49m\u001b[38;5;241;43m1\u001b[39;49m\u001b[43m,\u001b[49m\n\u001b[1;32m     14\u001b[0m \u001b[43m    \u001b[49m\u001b[43maccuracy_threshhold\u001b[49m\u001b[38;5;241;43m=\u001b[39;49m\u001b[38;5;241;43m1\u001b[39;49m\u001b[43m,\u001b[49m\n\u001b[1;32m     15\u001b[0m \u001b[43m    \u001b[49m\u001b[43mepochs\u001b[49m\u001b[38;5;241;43m=\u001b[39;49m\u001b[38;5;241;43m50\u001b[39;49m\n\u001b[1;32m     16\u001b[0m \u001b[43m)\u001b[49m\n",
      "File \u001b[0;32m~/LS/HEX_NEW/experiments/modules/trainer.py:43\u001b[0m, in \u001b[0;36mtrain\u001b[0;34m(graphs_train, labels_train, graphs_test, labels_test, dimensions, number_of_clauses, T, s, depth, accuracy_threshhold, epochs)\u001b[0m\n\u001b[1;32m     40\u001b[0m display(fig)\n\u001b[1;32m     42\u001b[0m \u001b[38;5;28;01mfor\u001b[39;00m epoch \u001b[38;5;129;01min\u001b[39;00m \u001b[38;5;28mrange\u001b[39m(epochs):\n\u001b[0;32m---> 43\u001b[0m     \u001b[43mtm\u001b[49m\u001b[38;5;241;43m.\u001b[39;49m\u001b[43mfit\u001b[49m\u001b[43m(\u001b[49m\u001b[43mgraphs_train\u001b[49m\u001b[43m,\u001b[49m\u001b[43m \u001b[49m\u001b[43mlabels_train\u001b[49m\u001b[43m,\u001b[49m\u001b[43m \u001b[49m\u001b[38;5;241;43m1\u001b[39;49m\u001b[43m,\u001b[49m\u001b[43m \u001b[49m\u001b[38;5;28;43;01mTrue\u001b[39;49;00m\u001b[43m)\u001b[49m\n\u001b[1;32m     45\u001b[0m     \u001b[38;5;66;03m#evaluate on training data and testing data\u001b[39;00m\n\u001b[1;32m     46\u001b[0m     train_prediction \u001b[38;5;241m=\u001b[39m tm\u001b[38;5;241m.\u001b[39mpredict(graphs_train)\n",
      "File \u001b[0;32m/opt/conda/lib/python3.11/site-packages/GraphTsetlinMachine/tm.py:566\u001b[0m, in \u001b[0;36mMultiClassGraphTsetlinMachine.fit\u001b[0;34m(self, graphs, Y, epochs, incremental)\u001b[0m\n\u001b[1;32m    563\u001b[0m \u001b[38;5;28;01mfor\u001b[39;00m i \u001b[38;5;129;01min\u001b[39;00m \u001b[38;5;28mrange\u001b[39m(\u001b[38;5;28mself\u001b[39m\u001b[38;5;241m.\u001b[39mnumber_of_outputs):\n\u001b[1;32m    564\u001b[0m \tencoded_Y[:,i] \u001b[38;5;241m=\u001b[39m np\u001b[38;5;241m.\u001b[39mwhere(Y \u001b[38;5;241m==\u001b[39m i, \u001b[38;5;28mself\u001b[39m\u001b[38;5;241m.\u001b[39mT, \u001b[38;5;241m-\u001b[39m\u001b[38;5;28mself\u001b[39m\u001b[38;5;241m.\u001b[39mT)\n\u001b[0;32m--> 566\u001b[0m \u001b[38;5;28;43mself\u001b[39;49m\u001b[38;5;241;43m.\u001b[39;49m\u001b[43m_fit\u001b[49m\u001b[43m(\u001b[49m\u001b[43mgraphs\u001b[49m\u001b[43m,\u001b[49m\u001b[43m \u001b[49m\u001b[43mencoded_Y\u001b[49m\u001b[43m,\u001b[49m\u001b[43m \u001b[49m\u001b[43mepochs\u001b[49m\u001b[38;5;241;43m=\u001b[39;49m\u001b[43mepochs\u001b[49m\u001b[43m,\u001b[49m\u001b[43m \u001b[49m\u001b[43mincremental\u001b[49m\u001b[38;5;241;43m=\u001b[39;49m\u001b[43mincremental\u001b[49m\u001b[43m)\u001b[49m\n",
      "File \u001b[0;32m/opt/conda/lib/python3.11/site-packages/GraphTsetlinMachine/tm.py:442\u001b[0m, in \u001b[0;36mCommonTsetlinMachine._fit\u001b[0;34m(self, graphs, encoded_Y, epochs, incremental)\u001b[0m\n\u001b[1;32m    428\u001b[0m \u001b[38;5;66;03m# Update clause Tsetlin automata blocks for layer one\u001b[39;00m\n\u001b[1;32m    429\u001b[0m \u001b[38;5;28mself\u001b[39m\u001b[38;5;241m.\u001b[39mupdate\u001b[38;5;241m.\u001b[39mprepared_call(\n\u001b[1;32m    430\u001b[0m \t\u001b[38;5;28mself\u001b[39m\u001b[38;5;241m.\u001b[39mgrid,\n\u001b[1;32m    431\u001b[0m \t\u001b[38;5;28mself\u001b[39m\u001b[38;5;241m.\u001b[39mblock,\n\u001b[0;32m   (...)\u001b[0m\n\u001b[1;32m    440\u001b[0m \t\u001b[38;5;28mself\u001b[39m\u001b[38;5;241m.\u001b[39mclass_clause_update_gpu\n\u001b[1;32m    441\u001b[0m )\n\u001b[0;32m--> 442\u001b[0m \u001b[43mcuda\u001b[49m\u001b[38;5;241;43m.\u001b[39;49m\u001b[43mContext\u001b[49m\u001b[38;5;241;43m.\u001b[39;49m\u001b[43msynchronize\u001b[49m\u001b[43m(\u001b[49m\u001b[43m)\u001b[49m\n\u001b[1;32m    444\u001b[0m \u001b[38;5;66;03m# Update clause Tsetlin automata blocks for deeper layers\u001b[39;00m\n\u001b[1;32m    445\u001b[0m \u001b[38;5;28;01mfor\u001b[39;00m depth \u001b[38;5;129;01min\u001b[39;00m \u001b[38;5;28mrange\u001b[39m(\u001b[38;5;28mself\u001b[39m\u001b[38;5;241m.\u001b[39mdepth\u001b[38;5;241m-\u001b[39m\u001b[38;5;241m1\u001b[39m):\n",
      "\u001b[0;31mKeyboardInterrupt\u001b[0m: "
     ]
    }
   ],
   "source": [
    "#training logic\n",
    "from modules.trainer import train\n",
    "\n",
    "train(\n",
    "    graphs_train=graphs_train,\n",
    "    labels_train=labels_train,\n",
    "    graphs_test=graphs_test,\n",
    "    labels_test=labels_test,\n",
    "    dimensions=dimensions,\n",
    "    number_of_clauses=1400,\n",
    "    T=700,\n",
    "    s=1.0,\n",
    "    depth=1,\n",
    "    accuracy_threshhold=1,\n",
    "    epochs=50\n",
    ")"
   ]
  }
 ],
 "metadata": {
  "kernelspec": {
   "display_name": "Python 3",
   "language": "python",
   "name": "python3"
  },
  "language_info": {
   "codemirror_mode": {
    "name": "ipython",
    "version": 2
   },
   "file_extension": ".py",
   "mimetype": "text/x-python",
   "name": "python",
   "nbconvert_exporter": "python",
   "pygments_lexer": "ipython2",
   "version": "2.7.6"
  }
 },
 "nbformat": 4,
 "nbformat_minor": 5
}
