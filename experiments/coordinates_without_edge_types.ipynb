{
 "cells": [
  {
   "cell_type": "code",
   "execution_count": 29,
   "id": "initial_id",
   "metadata": {
    "ExecuteTime": {
     "end_time": "2024-12-18T14:34:09.110670Z",
     "start_time": "2024-12-18T14:34:05.704209Z"
    },
    "collapsed": true
   },
   "outputs": [
    {
     "name": "stdout",
     "output_type": "stream",
     "text": [
      "Number of boards: 10000\n",
      "First board: [-1  1  0  0 -1 -1  1  0  1  1 -1 -1  1  1  0  1  1 -1  1  1  0  1  1 -1\n",
      "  1  0 -1  0 -1  0  1 -1  1  0 -1 -1  1  0 -1  1 -1 -1  1 -1  0  1 -1  0\n",
      " -1]\n",
      "First label: 1\n",
      "Training samples: 9000\n",
      "Test samples: 1000\n",
      "First training board: [-1  1  0  0 -1 -1  1  0  1  1 -1 -1  1  1  0  1  1 -1  1  1  0  1  1 -1\n",
      "  1  0 -1  0 -1  0  1 -1  1  0 -1 -1  1  0 -1  1 -1 -1  1 -1  0  1 -1  0\n",
      " -1]\n",
      "First training label: 1\n",
      "First test board: [ 0 -1  1  0  0 -1  1  1  0  1  1  1 -1  1  1  0  1 -1 -1  0  1  1  1  0\n",
      "  1 -1  0 -1  1 -1 -1 -1 -1  1  0 -1 -1 -1  1  0 -1  1 -1  1 -1 -1  0  0\n",
      "  0]\n",
      "First test label: 0\n"
     ]
    }
   ],
   "source": [
    "from modules.kaggle_dataloader import load_data\n",
    "\n",
    "boards_train, labels_train, boards_test, labels_test = load_data(\"../hex_games_1_000_000_size_7.csv\", 0.9, 10000)\n",
    "dimensions = 7"
   ]
  },
  {
   "cell_type": "code",
   "execution_count": 30,
   "id": "96311b371f439873",
   "metadata": {
    "ExecuteTime": {
     "end_time": "2024-12-18T14:34:44.464747Z",
     "start_time": "2024-12-18T14:34:09.210168Z"
    }
   },
   "outputs": [],
   "source": [
    "# setting up training graphs\n",
    "\n",
    "from GraphTsetlinMachine.graphs import Graphs\n",
    "\n",
    "#symbols for nodes\n",
    "symbols = [\"X\", \"O\", \"E\"]\n",
    "for i in range(dimensions):\n",
    "    symbols.append(f\"Row:{i}\")\n",
    "    symbols.append(f\"Column:{i}\")\n",
    "\n",
    "#initialize the graphs object\n",
    "graphs_train = Graphs(\n",
    "    number_of_graphs=len(boards_train),\n",
    "    symbols=symbols\n",
    ")\n",
    "\n",
    "#e.g. 49 for 7x7 board\n",
    "number_of_nodes = dimensions * dimensions\n",
    "\n",
    "#set the number of nodes for each graph\n",
    "for graph_id in range(len(boards_train)):\n",
    "    graphs_train.set_number_of_graph_nodes(graph_id, number_of_nodes)\n",
    "\n",
    "#function to get neighbors of a node (cell)\n",
    "def get_neighbors(row, column, dimensions):\n",
    "    neighbors = []\n",
    "    potential_neighbors = [\n",
    "        (row - 1, column),  #north-west\n",
    "        (row + 1, column),  #south-east\n",
    "        (row, column - 1),  #west\n",
    "        (row, column + 1),  #east\n",
    "        (row - 1, column + 1),  #north-east\n",
    "        (row + 1, column - 1),  #south-west\n",
    "    ]\n",
    "\n",
    "\n",
    "    for neighbor_row, neighbor_column in potential_neighbors:\n",
    "        if 0 <= neighbor_row < dimensions and 0 <= neighbor_column < dimensions:\n",
    "            neighbors.append((neighbor_row, neighbor_column))\n",
    "\n",
    "    return neighbors\n",
    "\n",
    "\n",
    "graphs_train.prepare_node_configuration()\n",
    "\n",
    "#add the nodes to each graph\n",
    "for graph_id, board in enumerate(boards_train):\n",
    "    for node_id in range(number_of_nodes):\n",
    "        row = node_id // dimensions\n",
    "        column = node_id % dimensions\n",
    "        neighbors = get_neighbors(row, column, dimensions)\n",
    "\n",
    "        graphs_train.add_graph_node(graph_id, node_id, len(neighbors))\n",
    "\n",
    "graphs_train.prepare_edge_configuration()\n",
    "\n",
    "#add the edges\n",
    "for graph_id, board in enumerate(boards_train):\n",
    "    for node_id in range(number_of_nodes):\n",
    "        row = node_id // dimensions\n",
    "        column = node_id % dimensions\n",
    "        neighbors = get_neighbors(row, column, dimensions)\n",
    "\n",
    "        for (neighbor_row, neighbor_column) in neighbors:\n",
    "            neighbor_id = neighbor_row * dimensions + neighbor_column\n",
    "            graphs_train.add_graph_node_edge(graph_id, node_id, neighbor_id, \"adjacent_cell\")\n",
    "\n",
    "\n",
    "#add the node properties\n",
    "for graph_id, board in enumerate(boards_train):\n",
    "    for node_id in range(number_of_nodes):\n",
    "        row = node_id // dimensions\n",
    "        column = node_id % dimensions\n",
    "\n",
    "        #X means cell is occupied by player 0, O is player 1, and E is empty\n",
    "        cell_value = board[node_id]\n",
    "        if cell_value == 'X':\n",
    "            graphs_train.add_graph_node_property(graph_id, node_id, \"X\")\n",
    "        elif cell_value == 'O':\n",
    "            graphs_train.add_graph_node_property(graph_id, node_id, \"O\")\n",
    "        elif cell_value == 'E':\n",
    "            graphs_train.add_graph_node_property(graph_id, node_id, \"E\")\n",
    "\n",
    "        graphs_train.add_graph_node_property(graph_id, node_id, f\"Row:{row}\")\n",
    "        graphs_train.add_graph_node_property(graph_id, node_id, f\"Column:{column}\")\n",
    "\n",
    "graphs_train.encode()"
   ]
  },
  {
   "cell_type": "code",
   "execution_count": 31,
   "id": "bd0b3e26b74376e8",
   "metadata": {
    "ExecuteTime": {
     "end_time": "2024-12-18T14:34:48.332618Z",
     "start_time": "2024-12-18T14:34:44.537672Z"
    }
   },
   "outputs": [],
   "source": [
    "#setting up the test graphs\n",
    "#its the same as the training graphs but we need to set them up separately\n",
    "\n",
    "graphs_test = Graphs(\n",
    "    number_of_graphs=len(boards_test),\n",
    "    init_with=graphs_train\n",
    ")\n",
    "\n",
    "for graph_id in range(len(boards_test)):\n",
    "    graphs_test.set_number_of_graph_nodes(graph_id, number_of_nodes)\n",
    "\n",
    "graphs_test.prepare_node_configuration()\n",
    "\n",
    "#add nodes\n",
    "for graph_id, board in enumerate(boards_test):\n",
    "    for node_id in range(number_of_nodes):\n",
    "        row = node_id // dimensions\n",
    "        column = node_id % dimensions\n",
    "        neighbors = get_neighbors(row, column, dimensions)\n",
    "\n",
    "        graphs_test.add_graph_node(graph_id, node_id, len(neighbors))\n",
    "\n",
    "graphs_test.prepare_edge_configuration()\n",
    "\n",
    "#add node edges\n",
    "for graph_id, board in enumerate(boards_test):\n",
    "    for node_id in range(number_of_nodes):\n",
    "        row = node_id // dimensions\n",
    "        column = node_id % dimensions\n",
    "        neighbors = get_neighbors(row, column, dimensions)\n",
    "\n",
    "        for (neighbor_row, neighbor_column) in neighbors:\n",
    "            neighbor_id = neighbor_row * dimensions + neighbor_column\n",
    "            graphs_test.add_graph_node_edge(graph_id, node_id, neighbor_id, \"adjacent_cell\")\n",
    "\n",
    "#add node properties\n",
    "for graph_id, board in enumerate(boards_test):\n",
    "    for node_id in range(number_of_nodes):\n",
    "        row = node_id // dimensions\n",
    "        column = node_id % dimensions\n",
    "        cell_value = board[node_id]\n",
    "\n",
    "        if cell_value == 'X':\n",
    "            graphs_test.add_graph_node_property(graph_id, node_id, \"X\")\n",
    "        elif cell_value == 'O':\n",
    "            graphs_test.add_graph_node_property(graph_id, node_id, \"O\")\n",
    "        elif cell_value == 'E':\n",
    "            graphs_test.add_graph_node_property(graph_id, node_id, \"E\")\n",
    "\n",
    "        graphs_test.add_graph_node_property(graph_id, node_id, f\"Row:{row}\")\n",
    "        graphs_test.add_graph_node_property(graph_id, node_id, f\"Column:{column}\")\n",
    "\n",
    "graphs_test.encode()"
   ]
  },
  {
   "cell_type": "code",
   "execution_count": 32,
   "id": "f83b791ac0ea4195",
   "metadata": {
    "ExecuteTime": {
     "end_time": "2024-12-18T14:53:07.961192Z",
     "start_time": "2024-12-18T14:34:48.430208Z"
    }
   },
   "outputs": [
    {
     "name": "stdout",
     "output_type": "stream",
     "text": [
      "Initialization of sparse structure.\n"
     ]
    },
    {
     "data": {
      "application/vnd.jupyter.widget-view+json": {
       "model_id": "45c4144a81e240a2b3198a205df505b9",
       "version_major": 2,
       "version_minor": 0
      },
      "text/plain": [
       "FigureWidget({\n",
       "    'data': [{'mode': 'lines',\n",
       "              'name': 'Training Accuracy',\n",
       "              'type': 'scatter',\n",
       "              'uid': '0ace7087-6ed5-49bc-af89-7a5536f6365f',\n",
       "              'x': [],\n",
       "              'y': []},\n",
       "             {'mode': 'lines',\n",
       "              'name': 'Testing Accuracy',\n",
       "              'type': 'scatter',\n",
       "              'uid': '6ec13415-9f2f-4510-8537-81724ac2a3e2',\n",
       "              'x': [],\n",
       "              'y': []},\n",
       "             {'line': {'color': 'gray', 'dash': 'dash'},\n",
       "              'mode': 'lines',\n",
       "              'name': 'Test Regression',\n",
       "              'type': 'scatter',\n",
       "              'uid': 'f8c4b968-6563-4edb-ac0f-47fcac38c3de',\n",
       "              'x': [],\n",
       "              'y': []}],\n",
       "    'layout': {'annotations': [{'font': {'size': 18},\n",
       "                                'showarrow': False,\n",
       "                                'text': 'Train: - , Test: -',\n",
       "                                'x': 0.5,\n",
       "                                'xref': 'paper',\n",
       "                                'y': 1.2,\n",
       "                                'yref': 'paper'}],\n",
       "               'template': '...',\n",
       "               'title': {'text': 'Training and Testing Accuracy, 7x7'},\n",
       "               'xaxis': {'title': {'text': 'Epoch'}},\n",
       "               'yaxis': {'title': {'text': 'Accuracy'}}}\n",
       "})"
      ]
     },
     "metadata": {},
     "output_type": "display_data"
    },
    {
     "ename": "KeyboardInterrupt",
     "evalue": "",
     "output_type": "error",
     "traceback": [
      "\u001b[0;31m---------------------------------------------------------------------------\u001b[0m",
      "\u001b[0;31mKeyboardInterrupt\u001b[0m                         Traceback (most recent call last)",
      "Cell \u001b[0;32mIn[32], line 4\u001b[0m\n\u001b[1;32m      1\u001b[0m \u001b[38;5;66;03m#training logic\u001b[39;00m\n\u001b[1;32m      2\u001b[0m \u001b[38;5;28;01mfrom\u001b[39;00m \u001b[38;5;21;01mmodules\u001b[39;00m\u001b[38;5;21;01m.\u001b[39;00m\u001b[38;5;21;01mtrainer\u001b[39;00m \u001b[38;5;28;01mimport\u001b[39;00m train\n\u001b[0;32m----> 4\u001b[0m \u001b[43mtrain\u001b[49m\u001b[43m(\u001b[49m\n\u001b[1;32m      5\u001b[0m \u001b[43m    \u001b[49m\u001b[43mgraphs_train\u001b[49m\u001b[38;5;241;43m=\u001b[39;49m\u001b[43mgraphs_train\u001b[49m\u001b[43m,\u001b[49m\n\u001b[1;32m      6\u001b[0m \u001b[43m    \u001b[49m\u001b[43mlabels_train\u001b[49m\u001b[38;5;241;43m=\u001b[39;49m\u001b[43mlabels_train\u001b[49m\u001b[43m,\u001b[49m\n\u001b[1;32m      7\u001b[0m \u001b[43m    \u001b[49m\u001b[43mgraphs_test\u001b[49m\u001b[38;5;241;43m=\u001b[39;49m\u001b[43mgraphs_test\u001b[49m\u001b[43m,\u001b[49m\n\u001b[1;32m      8\u001b[0m \u001b[43m    \u001b[49m\u001b[43mlabels_test\u001b[49m\u001b[38;5;241;43m=\u001b[39;49m\u001b[43mlabels_test\u001b[49m\u001b[43m,\u001b[49m\n\u001b[1;32m      9\u001b[0m \u001b[43m    \u001b[49m\u001b[43mdimensions\u001b[49m\u001b[38;5;241;43m=\u001b[39;49m\u001b[43mdimensions\u001b[49m\u001b[43m,\u001b[49m\n\u001b[1;32m     10\u001b[0m \u001b[43m    \u001b[49m\u001b[43mnumber_of_clauses\u001b[49m\u001b[38;5;241;43m=\u001b[39;49m\u001b[38;5;241;43m15000\u001b[39;49m\u001b[43m,\u001b[49m\n\u001b[1;32m     11\u001b[0m \u001b[43m    \u001b[49m\u001b[43mT\u001b[49m\u001b[38;5;241;43m=\u001b[39;49m\u001b[38;5;241;43m750\u001b[39;49m\u001b[43m,\u001b[49m\n\u001b[1;32m     12\u001b[0m \u001b[43m    \u001b[49m\u001b[43ms\u001b[49m\u001b[38;5;241;43m=\u001b[39;49m\u001b[38;5;241;43m1.0\u001b[39;49m\u001b[43m,\u001b[49m\n\u001b[1;32m     13\u001b[0m \u001b[43m    \u001b[49m\u001b[43mdepth\u001b[49m\u001b[38;5;241;43m=\u001b[39;49m\u001b[38;5;241;43m1\u001b[39;49m\u001b[43m,\u001b[49m\n\u001b[1;32m     14\u001b[0m \u001b[43m    \u001b[49m\u001b[43maccuracy_threshhold\u001b[49m\u001b[38;5;241;43m=\u001b[39;49m\u001b[38;5;241;43m1\u001b[39;49m\u001b[43m,\u001b[49m\n\u001b[1;32m     15\u001b[0m \u001b[43m    \u001b[49m\u001b[43mepochs\u001b[49m\u001b[38;5;241;43m=\u001b[39;49m\u001b[38;5;241;43m500000\u001b[39;49m\n\u001b[1;32m     16\u001b[0m \u001b[43m)\u001b[49m\n",
      "File \u001b[0;32m~/LS/HEX_NEW/experiments/modules/trainer.py:46\u001b[0m, in \u001b[0;36mtrain\u001b[0;34m(graphs_train, labels_train, graphs_test, labels_test, dimensions, number_of_clauses, T, s, depth, accuracy_threshhold, epochs)\u001b[0m\n\u001b[1;32m     43\u001b[0m tm\u001b[38;5;241m.\u001b[39mfit(graphs_train, labels_train, \u001b[38;5;241m1\u001b[39m, \u001b[38;5;28;01mTrue\u001b[39;00m)\n\u001b[1;32m     45\u001b[0m \u001b[38;5;66;03m#evaluate on training data and testing data\u001b[39;00m\n\u001b[0;32m---> 46\u001b[0m train_prediction \u001b[38;5;241m=\u001b[39m \u001b[43mtm\u001b[49m\u001b[38;5;241;43m.\u001b[39;49m\u001b[43mpredict\u001b[49m\u001b[43m(\u001b[49m\u001b[43mgraphs_train\u001b[49m\u001b[43m)\u001b[49m\n\u001b[1;32m     47\u001b[0m train_accuracy \u001b[38;5;241m=\u001b[39m (train_prediction \u001b[38;5;241m==\u001b[39m labels_train)\u001b[38;5;241m.\u001b[39mmean()\n\u001b[1;32m     48\u001b[0m test_prediction \u001b[38;5;241m=\u001b[39m tm\u001b[38;5;241m.\u001b[39mpredict(graphs_test)\n",
      "File \u001b[0;32m/opt/conda/lib/python3.11/site-packages/GraphTsetlinMachine/tm.py:572\u001b[0m, in \u001b[0;36mMultiClassGraphTsetlinMachine.predict\u001b[0;34m(self, graphs)\u001b[0m\n\u001b[1;32m    571\u001b[0m \u001b[38;5;28;01mdef\u001b[39;00m \u001b[38;5;21mpredict\u001b[39m(\u001b[38;5;28mself\u001b[39m, graphs):\n\u001b[0;32m--> 572\u001b[0m \t\u001b[38;5;28;01mreturn\u001b[39;00m np\u001b[38;5;241m.\u001b[39margmax(\u001b[38;5;28;43mself\u001b[39;49m\u001b[38;5;241;43m.\u001b[39;49m\u001b[43mscore\u001b[49m\u001b[43m(\u001b[49m\u001b[43mgraphs\u001b[49m\u001b[43m)\u001b[49m, axis\u001b[38;5;241m=\u001b[39m\u001b[38;5;241m1\u001b[39m)\n",
      "File \u001b[0;32m/opt/conda/lib/python3.11/site-packages/GraphTsetlinMachine/tm.py:569\u001b[0m, in \u001b[0;36mMultiClassGraphTsetlinMachine.score\u001b[0;34m(self, graphs)\u001b[0m\n\u001b[1;32m    568\u001b[0m \u001b[38;5;28;01mdef\u001b[39;00m \u001b[38;5;21mscore\u001b[39m(\u001b[38;5;28mself\u001b[39m, graphs):\n\u001b[0;32m--> 569\u001b[0m \t\u001b[38;5;28;01mreturn\u001b[39;00m \u001b[38;5;28;43mself\u001b[39;49m\u001b[38;5;241;43m.\u001b[39;49m\u001b[43m_score\u001b[49m\u001b[43m(\u001b[49m\u001b[43mgraphs\u001b[49m\u001b[43m)\u001b[49m\n",
      "File \u001b[0;32m/opt/conda/lib/python3.11/site-packages/GraphTsetlinMachine/tm.py:500\u001b[0m, in \u001b[0;36mCommonTsetlinMachine._score\u001b[0;34m(self, graphs)\u001b[0m\n\u001b[1;32m    496\u001b[0m \tcuda\u001b[38;5;241m.\u001b[39mmemcpy_htod(\u001b[38;5;28mself\u001b[39m\u001b[38;5;241m.\u001b[39mclass_sum_gpu, class_sum[e,:])\n\u001b[1;32m    498\u001b[0m \t\u001b[38;5;66;03m### Inference \u001b[39;00m\n\u001b[0;32m--> 500\u001b[0m \t\u001b[38;5;28;43mself\u001b[39;49m\u001b[38;5;241;43m.\u001b[39;49m\u001b[43m_evaluate\u001b[49m\u001b[43m(\u001b[49m\n\u001b[1;32m    501\u001b[0m \u001b[43m\t\t\u001b[49m\u001b[43mgraphs\u001b[49m\u001b[43m,\u001b[49m\n\u001b[1;32m    502\u001b[0m \u001b[43m\t\t\u001b[49m\u001b[43mnp\u001b[49m\u001b[38;5;241;43m.\u001b[39;49m\u001b[43mint32\u001b[49m\u001b[43m(\u001b[49m\u001b[43mgraphs\u001b[49m\u001b[38;5;241;43m.\u001b[39;49m\u001b[43mnumber_of_graph_nodes\u001b[49m\u001b[43m[\u001b[49m\u001b[43me\u001b[49m\u001b[43m]\u001b[49m\u001b[43m)\u001b[49m\u001b[43m,\u001b[49m\n\u001b[1;32m    503\u001b[0m \u001b[43m\t\t\u001b[49m\u001b[43mnp\u001b[49m\u001b[38;5;241;43m.\u001b[39;49m\u001b[43mint32\u001b[49m\u001b[43m(\u001b[49m\u001b[43mgraphs\u001b[49m\u001b[38;5;241;43m.\u001b[39;49m\u001b[43mnode_index\u001b[49m\u001b[43m[\u001b[49m\u001b[43me\u001b[49m\u001b[43m]\u001b[49m\u001b[43m)\u001b[49m\u001b[43m,\u001b[49m\n\u001b[1;32m    504\u001b[0m \u001b[43m\t\t\u001b[49m\u001b[43mnp\u001b[49m\u001b[38;5;241;43m.\u001b[39;49m\u001b[43mint32\u001b[49m\u001b[43m(\u001b[49m\u001b[43mgraphs\u001b[49m\u001b[38;5;241;43m.\u001b[39;49m\u001b[43medge_index\u001b[49m\u001b[43m[\u001b[49m\u001b[43mgraphs\u001b[49m\u001b[38;5;241;43m.\u001b[39;49m\u001b[43mnode_index\u001b[49m\u001b[43m[\u001b[49m\u001b[43me\u001b[49m\u001b[43m]\u001b[49m\u001b[43m]\u001b[49m\u001b[43m)\u001b[49m\u001b[43m,\u001b[49m\n\u001b[1;32m    505\u001b[0m \u001b[43m\t\t\u001b[49m\u001b[38;5;28;43mself\u001b[39;49m\u001b[38;5;241;43m.\u001b[39;49m\u001b[43mcurrent_clause_node_output_test_gpu\u001b[49m\u001b[43m,\u001b[49m\n\u001b[1;32m    506\u001b[0m \u001b[43m\t\t\u001b[49m\u001b[38;5;28;43mself\u001b[39;49m\u001b[38;5;241;43m.\u001b[39;49m\u001b[43mnext_clause_node_output_test_gpu\u001b[49m\u001b[43m,\u001b[49m\n\u001b[1;32m    507\u001b[0m \u001b[43m\t\t\u001b[49m\u001b[38;5;28;43mself\u001b[39;49m\u001b[38;5;241;43m.\u001b[39;49m\u001b[43mnumber_of_graph_node_edges_test_gpu\u001b[49m\u001b[43m,\u001b[49m\n\u001b[1;32m    508\u001b[0m \u001b[43m\t\t\u001b[49m\u001b[38;5;28;43mself\u001b[39;49m\u001b[38;5;241;43m.\u001b[39;49m\u001b[43medge_test_gpu\u001b[49m\u001b[43m,\u001b[49m\n\u001b[1;32m    509\u001b[0m \u001b[43m\t\t\u001b[49m\u001b[38;5;28;43mself\u001b[39;49m\u001b[38;5;241;43m.\u001b[39;49m\u001b[43mclause_X_int_test_gpu\u001b[49m\u001b[43m,\u001b[49m\n\u001b[1;32m    510\u001b[0m \u001b[43m\t\t\u001b[49m\u001b[38;5;28;43mself\u001b[39;49m\u001b[38;5;241;43m.\u001b[39;49m\u001b[43mclause_X_test_gpu\u001b[49m\u001b[43m,\u001b[49m\n\u001b[1;32m    511\u001b[0m \u001b[43m\t\t\u001b[49m\u001b[38;5;28;43mself\u001b[39;49m\u001b[38;5;241;43m.\u001b[39;49m\u001b[43mencoded_X_test_gpu\u001b[49m\n\u001b[1;32m    512\u001b[0m \u001b[43m\t\u001b[49m\u001b[43m)\u001b[49m\n\u001b[1;32m    514\u001b[0m \tcuda\u001b[38;5;241m.\u001b[39mmemcpy_dtoh(class_sum[e,:], \u001b[38;5;28mself\u001b[39m\u001b[38;5;241m.\u001b[39mclass_sum_gpu)\n\u001b[1;32m    516\u001b[0m \u001b[38;5;28;01mreturn\u001b[39;00m class_sum\n",
      "File \u001b[0;32m/opt/conda/lib/python3.11/site-packages/GraphTsetlinMachine/tm.py:372\u001b[0m, in \u001b[0;36mCommonTsetlinMachine._evaluate\u001b[0;34m(self, graphs, number_of_graph_nodes, node_index, edge_index, current_clause_node_output, next_clause_node_output, number_of_graph_node_edges, edge, clause_X_int, clause_X, encoded_X)\u001b[0m\n\u001b[1;32m    362\u001b[0m \tnext_clause_node_output \u001b[38;5;241m=\u001b[39m tmp\n\u001b[1;32m    364\u001b[0m \u001b[38;5;28mself\u001b[39m\u001b[38;5;241m.\u001b[39mevaluate\u001b[38;5;241m.\u001b[39mprepared_call(\n\u001b[1;32m    365\u001b[0m \t\u001b[38;5;28mself\u001b[39m\u001b[38;5;241m.\u001b[39mgrid,\n\u001b[1;32m    366\u001b[0m \t\u001b[38;5;28mself\u001b[39m\u001b[38;5;241m.\u001b[39mblock,\n\u001b[0;32m   (...)\u001b[0m\n\u001b[1;32m    370\u001b[0m \t\u001b[38;5;28mself\u001b[39m\u001b[38;5;241m.\u001b[39mclass_sum_gpu\n\u001b[1;32m    371\u001b[0m )\n\u001b[0;32m--> 372\u001b[0m \u001b[43mcuda\u001b[49m\u001b[38;5;241;43m.\u001b[39;49m\u001b[43mContext\u001b[49m\u001b[38;5;241;43m.\u001b[39;49m\u001b[43msynchronize\u001b[49m\u001b[43m(\u001b[49m\u001b[43m)\u001b[49m\n\u001b[1;32m    374\u001b[0m \u001b[38;5;28;01mreturn\u001b[39;00m current_clause_node_output\n",
      "\u001b[0;31mKeyboardInterrupt\u001b[0m: "
     ]
    }
   ],
   "source": [
    "#training logic\n",
    "from modules.trainer import train\n",
    "\n",
    "train(\n",
    "    graphs_train=graphs_train,\n",
    "    labels_train=labels_train,\n",
    "    graphs_test=graphs_test,\n",
    "    labels_test=labels_test,\n",
    "    dimensions=dimensions,\n",
    "    number_of_clauses=15000,\n",
    "    T=750,\n",
    "    s=1.0,\n",
    "    depth=1,\n",
    "    accuracy_threshhold=1,\n",
    "    epochs=500000\n",
    ")\n"
   ]
  }
 ],
 "metadata": {
  "kernelspec": {
   "display_name": "Python 3",
   "language": "python",
   "name": "python3"
  },
  "language_info": {
   "codemirror_mode": {
    "name": "ipython",
    "version": 2
   },
   "file_extension": ".py",
   "mimetype": "text/x-python",
   "name": "python",
   "nbconvert_exporter": "python",
   "pygments_lexer": "ipython2",
   "version": "2.7.6"
  }
 },
 "nbformat": 4,
 "nbformat_minor": 5
}
