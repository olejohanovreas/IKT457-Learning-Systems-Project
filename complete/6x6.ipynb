{
 "cells": [
  {
   "cell_type": "code",
   "execution_count": 1,
   "id": "initial_id",
   "metadata": {
    "ExecuteTime": {
     "end_time": "2024-12-19T15:05:49.804826Z",
     "start_time": "2024-12-19T15:05:49.154731Z"
    },
    "collapsed": true,
    "trusted": false
   },
   "outputs": [
    {
     "name": "stdout",
     "output_type": "stream",
     "text": "Number of boards: 10000\nFirst board: XEOXOXOXOOOXOOOOOOOEOOXXXXOXXXXOXXXE\nFirst label: 1\n"
    }
   ],
   "source": "#Loading data logic\nimport numpy as np\nfrom sklearn.utils import shuffle\n\ndimensions = 6\n\n\nboards = []\nlabels = []\n\nwith open(\"hex_data.csv\", \"r\") as file:\n    lines = file.readlines()\n\n#skip the first line\ndata_lines = lines[1:]\n\n#split lines into boards and labels\nfor line in data_lines:\n    splitted = line.split(',')\n    board = splitted[0]\n    label = splitted[1]\n    boards.append(board)\n    labels.append(label)\n\n#convert the labels to a numpy array\nlabels = np.array(labels, dtype=np.uint32)\n\nprint(\"Number of boards:\", len(boards))\nprint(\"First board:\", boards[0])\nprint(\"First label:\", labels[0])\n\nboards, labels = shuffle(boards, labels, random_state=42)"
  },
  {
   "cell_type": "code",
   "execution_count": 2,
   "id": "d9452116431fc7c1",
   "metadata": {
    "ExecuteTime": {
     "end_time": "2024-12-19T15:05:49.836653Z",
     "start_time": "2024-12-19T15:05:49.832333Z"
    },
    "trusted": false
   },
   "outputs": [
    {
     "name": "stdout",
     "output_type": "stream",
     "text": "Training samples:  9000\nTest samples:  1000\nFirst training board:  XEXOOXXOXOEOEEXOOXXOXXXOOEXOXXOEOOXO\nFirst training label:  0\nFirst test board:  OXXOOOEXEEEEOXOXXOOXEXEXOXOXXOOXEOXO\nFirst test label:  0\n"
    }
   ],
   "source": "#splitting dataset\n\nratio = 0.9\nsplit_point = int(len(labels) * ratio)\n\n#slice dataset\nboards_train = boards[:split_point]\nboards_test = boards[split_point:]\nlabels_train = labels[:split_point]\nlabels_test = labels[split_point:]\n\nprint(\"Training samples: \", len(boards_train))\nprint(\"Test samples: \", len(boards_test))\nprint(\"First training board: \", boards_train[0])\nprint(\"First training label: \", labels_train[0])\nprint(\"First test board: \", boards_test[0])\nprint(\"First test label: \", labels_test[0])"
  },
  {
   "cell_type": "code",
   "execution_count": 3,
   "id": "96311b371f439873",
   "metadata": {
    "ExecuteTime": {
     "end_time": "2024-12-19T15:06:07.955809Z",
     "start_time": "2024-12-19T15:05:50.213077Z"
    },
    "trusted": false
   },
   "outputs": [
    {
     "ename": "KeyboardInterrupt",
     "evalue": "",
     "output_type": "error",
     "traceback": [
      "\u001B[0;31m---------------------------------------------------------------------------\u001B[0m",
      "\u001B[0;31mKeyboardInterrupt\u001B[0m                         Traceback (most recent call last)",
      "Cell \u001B[0;32mIn[3], line 70\u001B[0m\n\u001B[1;32m     67\u001B[0m         \u001B[38;5;28;01mfor\u001B[39;00m (neighbor_row, neighbor_column) \u001B[38;5;129;01min\u001B[39;00m neighbors:\n\u001B[1;32m     68\u001B[0m             neighbor_id \u001B[38;5;241m=\u001B[39m neighbor_row \u001B[38;5;241m*\u001B[39m dimensions \u001B[38;5;241m+\u001B[39m neighbor_column\n\u001B[0;32m---> 70\u001B[0m             graphs_train\u001B[38;5;241m.\u001B[39madd_graph_node_edge(graph_id, node_id, neighbor_id, \u001B[38;5;124m\"\u001B[39m\u001B[38;5;124madjacent_cell\u001B[39m\u001B[38;5;124m\"\u001B[39m)\n\u001B[1;32m     72\u001B[0m \u001B[38;5;66;03m#add the node properties\u001B[39;00m\n\u001B[1;32m     73\u001B[0m \u001B[38;5;28;01mfor\u001B[39;00m graph_id, board \u001B[38;5;129;01min\u001B[39;00m \u001B[38;5;28menumerate\u001B[39m(boards_train):\n",
      "\u001B[0;31mKeyboardInterrupt\u001B[0m: "
     ]
    }
   ],
   "source": "# setting up training graphs\n\nfrom GraphTsetlinMachine.graphs import Graphs\n\n#symbols for nodes\nsymbols = [\"X\", \"O\", \"E\"]\nfor i in range(dimensions):\n    symbols.append(f\"Row:{i}\")\n    symbols.append(f\"Column:{i}\")\n\n#initialize the graphs object\ngraphs_train = Graphs(\n    number_of_graphs=len(boards_train),\n    symbols=symbols,\n    hypervector_size=128,\n    hypervector_bits=2,\n    double_hashing=False\n)\n\n#e.g. 49 for 7x7 board\nnumber_of_nodes = dimensions * dimensions\n\n#set the number of nodes for each graph\nfor graph_id in range(len(boards_train)):\n    graphs_train.set_number_of_graph_nodes(graph_id, number_of_nodes)\n\n\n#function to get neighbors of a node (cell)\ndef get_neighbors(row, column, dimensions):\n    neighbors = []\n    potential_neighbors = [\n        (row - 1, column),  #north-west\n        (row + 1, column),  #south-east\n        (row, column - 1),  #west\n        (row, column + 1),  #east\n        (row - 1, column + 1),  #north-east\n        (row + 1, column - 1),  #south-west\n    ]\n\n    for neighbor_row, neighbor_column in potential_neighbors:\n        if 0 <= neighbor_row < dimensions and 0 <= neighbor_column < dimensions:\n            neighbors.append((neighbor_row, neighbor_column))\n\n    return neighbors\n\n\ngraphs_train.prepare_node_configuration()\n\n#add the nodes to each graph\nfor graph_id, board in enumerate(boards_train):\n    for node_id in range(number_of_nodes):\n        row = node_id // dimensions\n        column = node_id % dimensions\n        neighbors = get_neighbors(row, column, dimensions)\n\n        graphs_train.add_graph_node(graph_id, node_id, len(neighbors))\n\ngraphs_train.prepare_edge_configuration()\n\n#add the edges\nfor graph_id, board in enumerate(boards_train):\n    for node_id in range(number_of_nodes):\n        row = node_id // dimensions\n        column = node_id % dimensions\n        neighbors = get_neighbors(row, column, dimensions)\n\n        for (neighbor_row, neighbor_column) in neighbors:\n            neighbor_id = neighbor_row * dimensions + neighbor_column\n\n            graphs_train.add_graph_node_edge(graph_id, node_id, neighbor_id, \"adjacent_cell\")\n\n#add the node properties\nfor graph_id, board in enumerate(boards_train):\n    for node_id in range(number_of_nodes):\n        row = node_id // dimensions\n        column = node_id % dimensions\n\n        #X means cell is occupied by player 0, O is player 1, and E is empty\n        cell_value = board[node_id]\n        if cell_value == 'X':\n            graphs_train.add_graph_node_property(graph_id, node_id, \"X\")\n        elif cell_value == 'O':\n            graphs_train.add_graph_node_property(graph_id, node_id, \"O\")\n        elif cell_value == 'E':\n            graphs_train.add_graph_node_property(graph_id, node_id, \"E\")\n\n        graphs_train.add_graph_node_property(graph_id, node_id, f\"Row:{row}\")\n        graphs_train.add_graph_node_property(graph_id, node_id, f\"Column:{column}\")\n\ngraphs_train.encode()"
  },
  {
   "cell_type": "code",
   "execution_count": 19,
   "id": "bd0b3e26b74376e8",
   "metadata": {
    "ExecuteTime": {
     "end_time": "2024-12-19T15:06:07.966938864Z",
     "start_time": "2024-12-19T12:53:27.469620Z"
    },
    "trusted": false
   },
   "outputs": [],
   "source": "#setting up the test graphs\n#its the same as the training graphs but we need to set them up separately\n\ngraphs_test = Graphs(\n    number_of_graphs=len(boards_test),\n    init_with=graphs_train\n)\n\nfor graph_id in range(len(boards_test)):\n    graphs_test.set_number_of_graph_nodes(graph_id, number_of_nodes)\n\ngraphs_test.prepare_node_configuration()\n\n#add nodes\nfor graph_id, board in enumerate(boards_test):\n    for node_id in range(number_of_nodes):\n        row = node_id // dimensions\n        column = node_id % dimensions\n        neighbors = get_neighbors(row, column, dimensions)\n\n        graphs_test.add_graph_node(graph_id, node_id, len(neighbors))\n\ngraphs_test.prepare_edge_configuration()\n\n#add node edges\nfor graph_id, board in enumerate(boards_test):\n    for node_id in range(number_of_nodes):\n        row = node_id // dimensions\n        column = node_id % dimensions\n        neighbors = get_neighbors(row, column, dimensions)\n\n        for (neighbor_row, neighbor_column) in neighbors:\n            neighbor_id = neighbor_row * dimensions + neighbor_column\n\n            graphs_test.add_graph_node_edge(graph_id, node_id, neighbor_id, \"adjacent_cell\")\n\n#add node properties\nfor graph_id, board in enumerate(boards_test):\n    for node_id in range(number_of_nodes):\n        row = node_id // dimensions\n        column = node_id % dimensions\n        cell_value = board[node_id]\n\n        if cell_value == 'X':\n            graphs_test.add_graph_node_property(graph_id, node_id, \"X\")\n        elif cell_value == 'O':\n            graphs_test.add_graph_node_property(graph_id, node_id, \"O\")\n        elif cell_value == 'E':\n            graphs_test.add_graph_node_property(graph_id, node_id, \"E\")\n\n        graphs_test.add_graph_node_property(graph_id, node_id, f\"Row:{row}\")\n        graphs_test.add_graph_node_property(graph_id, node_id, f\"Column:{column}\")\n\ngraphs_test.encode()"
  },
  {
   "cell_type": "code",
   "execution_count": null,
   "id": "f83b791ac0ea4195",
   "metadata": {
    "ExecuteTime": {
     "end_time": "2024-12-19T15:06:07.968192009Z",
     "start_time": "2024-12-19T12:53:29.939365Z"
    },
    "trusted": false
   },
   "outputs": [
    {
     "name": "stdout",
     "output_type": "stream",
     "text": "Initialization of sparse structure.\n"
    },
    {
     "data": {
      "application/vnd.jupyter.widget-view+json": {
       "model_id": "a9d8ef47559e43e3ac87fe4bd1aa8f01",
       "version_major": 2,
       "version_minor": 0
      },
      "text/plain": "FigureWidget({\n    'data': [{'mode': 'lines',\n              'name': 'Training Accuracy',\n              'type': 'scatter',\n              'uid': 'e000ddb9-67d6-4b24-9806-6b592c2d8aa4',\n              'x': [],\n              'y': []},\n             {'mode': 'lines',\n              'name': 'Testing Accuracy',\n              'type': 'scatter',\n              'uid': '6e04a7c8-7021-4106-89f0-43b1719d1d43',\n              'x': [],\n              'y': []},\n             {'line': {'color': 'gray', 'dash': 'dash'},\n              'mode': 'lines',\n              'name': 'Test Regression',\n              'type': 'scatter',\n              'uid': '4d40ff7c-d686-46d2-888d-7380ed5efd9f',\n              'x': [],\n              'y': []}],\n    'layout': {'annotations': [{'font': {'size': 18},\n                                'showarrow': False,\n                                'text': 'Train: - , Test: -',\n                                'x': 0.5,\n                                'xref': 'paper',\n                                'y': 1.2,\n                                'yref': 'paper'}],\n               'template': '...',\n               'title': {'text': 'Training and Testing Accuracy, 6x6'},\n               'xaxis': {'title': {'text': 'Epoch'}},\n               'yaxis': {'title': {'text': 'Accuracy'}}}\n})"
     },
     "metadata": {},
     "output_type": "display_data"
    }
   ],
   "source": "#training logic\nfrom GraphTsetlinMachine.tm import MultiClassGraphTsetlinMachine\nimport plotly.graph_objects as go\nfrom IPython.display import display\n\nepochs = 1000000000000\n\ntm = MultiClassGraphTsetlinMachine(\n    number_of_clauses=750,\n    T=10000,\n    s=0.1,\n    q=1.0,\n    max_included_literals=None,\n    boost_true_positive_feedback=1,\n    number_of_state_bits=12,\n    depth=2,\n    message_size=256,\n    message_bits=2,\n    double_hashing=False,\n    grid=(16 * 13 * 4, 1, 1),\n    block=(128, 1, 1)\n)\n\ntrain_accuracies = []\ntest_accuracies = []\nmax_train_accuracy = 0\nmax_test_accuracy = 0\nmax_train_epoch = 0\nnot_hit_100 = True\naccuracy_counter = 0\n\nfig = go.FigureWidget(\n    data=[\n        go.Scatter(x=[], y=[], mode='lines', name=\"Training Accuracy\"),\n        go.Scatter(x=[], y=[], mode='lines', name=\"Testing Accuracy\"),\n        go.Scatter(x=[], y=[], mode='lines', name=\"Test Regression\", line=dict(dash='dash', color='gray'))\n    ],\n    layout=go.Layout(\n        title=f\"Training and Testing Accuracy, {dimensions}x{dimensions}\",\n        xaxis=dict(title=\"Epoch\"),\n        yaxis=dict(title=\"Accuracy\"),\n        annotations=[\n            dict(text=\"Train: - , Test: -\", x=0.5, y=1.2, xref=\"paper\", yref=\"paper\", showarrow=False,\n                 font=dict(size=18)\n                 )\n        ]\n    )\n)\n\ndisplay(fig)\n\nfor epoch in range(epochs):\n    tm.fit(graphs_train, labels_train, 1, True)\n\n    #evaluate on training data and testing data\n    train_prediction = tm.predict(graphs_train)\n    train_accuracy = (train_prediction == labels_train).mean()\n    test_prediction = tm.predict(graphs_test)\n    test_accuracy = (test_prediction == labels_test).mean()\n\n    if train_accuracy > max_train_accuracy:\n        max_train_accuracy = train_accuracy\n    if test_accuracy > max_test_accuracy:\n        max_test_accuracy = test_accuracy\n\n    train_accuracies.append(train_accuracy)\n    test_accuracies.append(test_accuracy)\n\n    #compute regression line when more than one point\n    x_data = np.arange(1, epoch + 2)\n    if len(test_accuracies) > 1:\n        coeffs = np.polyfit(x_data, test_accuracies, 1)\n        test_poly = np.poly1d(coeffs)\n        reg_y = test_poly(x_data)\n    else:\n        reg_y = [test_accuracies[0]]\n\n    #update the plot\n    with fig.batch_update():\n        fig.data[0].x = list(range(1, epoch + 2))\n        fig.data[0].y = train_accuracies\n        fig.data[1].x = list(range(1, epoch + 2))\n        fig.data[1].y = test_accuracies\n        fig.data[2].x = x_data\n        fig.data[2].y = reg_y\n\n        fig.layout.annotations = [\n            dict(\n                text=f\"Train: {train_accuracy:.3f} (max: {max_train_accuracy:.3f}) , Test: {test_accuracy:.3f} (max: {max_test_accuracy:.3f}). >0.98 Train x 10 at epoch {max_train_epoch}\",\n                x=0.5,\n                y=1.2, xref=\"paper\", yref=\"paper\", showarrow=False, font=dict(size=18)\n            )\n        ]\n        \n        if train_accuracy >= 0.98:\n            accuracy_counter += 1\n\n        if accuracy_counter >= 10 and not_hit_100:\n            max_train_epoch = epoch\n            not_hit_100 = False\n\n        if test_accuracy >= 0.999 and train_accuracy >= 0.999:\n            break\n\n    #print(f\"Epoch {epoch + 1} / {epochs}: Train Accuracy: {train_accuracy:.3f}, Test Accuracy: {test_accuracy:.3f}\")\n"
  },
  {
   "cell_type": "code",
   "execution_count": null,
   "id": "3ecb13e8b0fcf469",
   "metadata": {
    "trusted": false
   },
   "outputs": [],
   "source": ""
  }
 ],
 "metadata": {
  "kernelspec": {
   "display_name": "Python 3",
   "language": "python",
   "name": "python3"
  },
  "language_info": {
   "codemirror_mode": {
    "name": "ipython",
    "version": 2
   },
   "file_extension": ".py",
   "mimetype": "text/x-python",
   "name": "python",
   "nbconvert_exporter": "python",
   "pygments_lexer": "ipython2",
   "version": "2.7.6"
  }
 },
 "nbformat": 4,
 "nbformat_minor": 5
}
