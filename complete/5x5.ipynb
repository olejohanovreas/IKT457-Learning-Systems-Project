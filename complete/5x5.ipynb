{
 "cells": [
  {
   "cell_type": "code",
   "execution_count": 7,
   "id": "initial_id",
   "metadata": {
    "ExecuteTime": {
     "end_time": "2024-12-19T11:37:03.853558Z",
     "start_time": "2024-12-19T11:37:03.843614Z"
    },
    "collapsed": true,
    "jupyter": {
     "outputs_hidden": true
    },
    "trusted": false
   },
   "outputs": [
    {
     "name": "stdout",
     "output_type": "stream",
     "text": "Number of boards: 5000\nFirst board: EXOOOOXOOOOXXOXXEXOXOXXXE\nFirst label: 0\n"
    }
   ],
   "source": "#Loading data logic\nimport numpy as np\nfrom sklearn.utils import shuffle\n\ndimensions = 5\n#93% etter ca 130 epochs, 5000 data rows\n\nboards = []\nlabels = []\n\nwith open(\"../hex_data.csv\", \"r\") as file:\n    lines = file.readlines()\n\n#skip the first line\ndata_lines = lines[1:]\n\n#split lines into boards and labels\nfor line in data_lines:\n    splitted = line.split(',')\n    board = splitted[0]\n    label = splitted[1]\n    boards.append(board)\n    labels.append(label)\n\n#convert the labels to a numpy array\nlabels = np.array(labels, dtype=np.uint32)\n\nprint(\"Number of boards:\", len(boards))\nprint(\"First board:\", boards[0])\nprint(\"First label:\", labels[0])\n\nboards, labels = shuffle(boards, labels, random_state=42)"
  },
  {
   "cell_type": "code",
   "execution_count": 8,
   "id": "d9452116431fc7c1",
   "metadata": {
    "ExecuteTime": {
     "end_time": "2024-12-19T11:37:03.880010Z",
     "start_time": "2024-12-19T11:37:03.873134Z"
    },
    "trusted": false
   },
   "outputs": [
    {
     "name": "stdout",
     "output_type": "stream",
     "text": "Training samples:  4500\nTest samples:  500\nFirst training board:  XXOOOOXOXXXXXOXEXXOOXOEOO\nFirst training label:  0\nFirst test board:  XXXOOOXXOOXXOOOOOXXXEXOOX\nFirst test label:  1\n"
    }
   ],
   "source": "#splitting dataset\n\nratio = 0.9\nsplit_point = int(len(labels) * ratio)\n\n#slice dataset\nboards_train = boards[:split_point]\nboards_test = boards[split_point:]\nlabels_train = labels[:split_point]\nlabels_test = labels[split_point:]\n\nprint(\"Training samples: \", len(boards_train))\nprint(\"Test samples: \", len(boards_test))\nprint(\"First training board: \", boards_train[0])\nprint(\"First training label: \", labels_train[0])\nprint(\"First test board: \", boards_test[0])\nprint(\"First test label: \", labels_test[0])"
  },
  {
   "cell_type": "code",
   "execution_count": 9,
   "id": "96311b371f439873",
   "metadata": {
    "ExecuteTime": {
     "end_time": "2024-12-19T11:37:11.183603Z",
     "start_time": "2024-12-19T11:37:03.905528Z"
    },
    "trusted": false
   },
   "outputs": [],
   "source": "# setting up training graphs\n\nfrom GraphTsetlinMachine.graphs import Graphs\n\n#symbols for nodes\nsymbols = [\"X\", \"O\", \"E\"]\nfor i in range(dimensions):\n    symbols.append(f\"Row:{i}\")\n    symbols.append(f\"Column:{i}\")\n\n#initialize the graphs object\ngraphs_train = Graphs(\n    number_of_graphs=len(boards_train),\n    symbols=symbols,\n    hypervector_size=128,\n    hypervector_bits=2,\n    double_hashing=False\n)\n\n#e.g. 49 for 7x7 board\nnumber_of_nodes = dimensions * dimensions\n\n#set the number of nodes for each graph\nfor graph_id in range(len(boards_train)):\n    graphs_train.set_number_of_graph_nodes(graph_id, number_of_nodes)\n\n\n#function to get neighbors of a node (cell)\ndef get_neighbors(row, column, dimensions):\n    neighbors = []\n    potential_neighbors = [\n        (row - 1, column),  #north-west\n        (row + 1, column),  #south-east\n        (row, column - 1),  #west\n        (row, column + 1),  #east\n        (row - 1, column + 1),  #north-east\n        (row + 1, column - 1),  #south-west\n    ]\n\n    for neighbor_row, neighbor_column in potential_neighbors:\n        if 0 <= neighbor_row < dimensions and 0 <= neighbor_column < dimensions:\n            neighbors.append((neighbor_row, neighbor_column))\n\n    return neighbors\n\n\ngraphs_train.prepare_node_configuration()\n\n#add the nodes to each graph\nfor graph_id, board in enumerate(boards_train):\n    for node_id in range(number_of_nodes):\n        row = node_id // dimensions\n        column = node_id % dimensions\n        neighbors = get_neighbors(row, column, dimensions)\n\n        graphs_train.add_graph_node(graph_id, node_id, len(neighbors))\n\ngraphs_train.prepare_edge_configuration()\n\n#add the edges\nfor graph_id, board in enumerate(boards_train):\n    for node_id in range(number_of_nodes):\n        row = node_id // dimensions\n        column = node_id % dimensions\n        neighbors = get_neighbors(row, column, dimensions)\n\n        for (neighbor_row, neighbor_column) in neighbors:\n            neighbor_id = neighbor_row * dimensions + neighbor_column\n\n            graphs_train.add_graph_node_edge(graph_id, node_id, neighbor_id, \"adjacent_cell\")\n\n#add the node properties\nfor graph_id, board in enumerate(boards_train):\n    for node_id in range(number_of_nodes):\n        row = node_id // dimensions\n        column = node_id % dimensions\n\n        #X means cell is occupied by player 0, O is player 1, and E is empty\n        cell_value = board[node_id]\n        if cell_value == 'X':\n            graphs_train.add_graph_node_property(graph_id, node_id, \"X\")\n        elif cell_value == 'O':\n            graphs_train.add_graph_node_property(graph_id, node_id, \"O\")\n        elif cell_value == 'E':\n            graphs_train.add_graph_node_property(graph_id, node_id, \"E\")\n\n        graphs_train.add_graph_node_property(graph_id, node_id, f\"Row:{row}\")\n        graphs_train.add_graph_node_property(graph_id, node_id, f\"Column:{column}\")\n\ngraphs_train.encode()"
  },
  {
   "cell_type": "code",
   "execution_count": 10,
   "id": "bd0b3e26b74376e8",
   "metadata": {
    "ExecuteTime": {
     "end_time": "2024-12-19T11:37:12.157679Z",
     "start_time": "2024-12-19T11:37:11.201528Z"
    },
    "trusted": false
   },
   "outputs": [],
   "source": "#setting up the test graphs\n#its the same as the training graphs but we need to set them up separately\n\ngraphs_test = Graphs(\n    number_of_graphs=len(boards_test),\n    init_with=graphs_train\n)\n\nfor graph_id in range(len(boards_test)):\n    graphs_test.set_number_of_graph_nodes(graph_id, number_of_nodes)\n\ngraphs_test.prepare_node_configuration()\n\n#add nodes\nfor graph_id, board in enumerate(boards_test):\n    for node_id in range(number_of_nodes):\n        row = node_id // dimensions\n        column = node_id % dimensions\n        neighbors = get_neighbors(row, column, dimensions)\n\n        graphs_test.add_graph_node(graph_id, node_id, len(neighbors))\n\ngraphs_test.prepare_edge_configuration()\n\n#add node edges\nfor graph_id, board in enumerate(boards_test):\n    for node_id in range(number_of_nodes):\n        row = node_id // dimensions\n        column = node_id % dimensions\n        neighbors = get_neighbors(row, column, dimensions)\n\n        for (neighbor_row, neighbor_column) in neighbors:\n            neighbor_id = neighbor_row * dimensions + neighbor_column\n\n            graphs_test.add_graph_node_edge(graph_id, node_id, neighbor_id, \"adjacent_cell\")\n\n#add node properties\nfor graph_id, board in enumerate(boards_test):\n    for node_id in range(number_of_nodes):\n        row = node_id // dimensions\n        column = node_id % dimensions\n        cell_value = board[node_id]\n\n        if cell_value == 'X':\n            graphs_test.add_graph_node_property(graph_id, node_id, \"X\")\n        elif cell_value == 'O':\n            graphs_test.add_graph_node_property(graph_id, node_id, \"O\")\n        elif cell_value == 'E':\n            graphs_test.add_graph_node_property(graph_id, node_id, \"E\")\n\n        graphs_test.add_graph_node_property(graph_id, node_id, f\"Row:{row}\")\n        graphs_test.add_graph_node_property(graph_id, node_id, f\"Column:{column}\")\n\ngraphs_test.encode()"
  },
  {
   "cell_type": "code",
   "execution_count": 11,
   "id": "f83b791ac0ea4195",
   "metadata": {
    "ExecuteTime": {
     "end_time": "2024-12-19T11:52:16.016684Z",
     "start_time": "2024-12-19T11:37:12.221976Z"
    },
    "trusted": false
   },
   "outputs": [
    {
     "name": "stdout",
     "output_type": "stream",
     "text": "Initialization of sparse structure.\n"
    },
    {
     "data": {
      "application/vnd.jupyter.widget-view+json": {
       "model_id": "2fc19860fd6945f88e356c23fab1da58",
       "version_major": 2,
       "version_minor": 0
      },
      "text/plain": "FigureWidget({\n    'data': [{'mode': 'lines',\n              'name': 'Training Accuracy',\n              'type': 'scatter',\n              'uid': 'e08ec30c-d9ab-4678-9db9-fd1f4096ade5',\n              'x': [],\n              'y': []},\n             {'mode': 'lines',\n              'name': 'Testing Accuracy',\n              'type': 'scatter',\n              'uid': '989cf37b-9491-4847-b35d-efa68b32c59c',\n              'x': [],\n              'y': []},\n             {'line': {'color': 'gray', 'dash': 'dash'},\n              'mode': 'lines',\n              'name': 'Test Regression',\n              'type': 'scatter',\n              'uid': 'fc677748-018d-4006-b814-659d15e45f2b',\n              'x': [],\n              'y': []}],\n    'layout': {'annotations': [{'font': {'size': 18},\n                                'showarrow': False,\n                                'text': 'Train: - , Test: -',\n                                'x': 0.5,\n                                'xref': 'paper',\n                                'y': 1.2,\n                                'yref': 'paper'}],\n               'template': '...',\n               'title': {'text': 'Training and Testing Accuracy, 5x5'},\n               'xaxis': {'title': {'text': 'Epoch'}},\n               'yaxis': {'title': {'text': 'Accuracy'}}}\n})"
     },
     "metadata": {},
     "output_type": "display_data"
    },
    {
     "ename": "KeyboardInterrupt",
     "evalue": "",
     "output_type": "error",
     "traceback": [
      "\u001B[0;31m---------------------------------------------------------------------------\u001B[0m",
      "\u001B[0;31mKeyboardInterrupt\u001B[0m                         Traceback (most recent call last)",
      "Cell \u001B[0;32mIn[11], line 53\u001B[0m\n\u001B[1;32m     50\u001B[0m display(fig)\n\u001B[1;32m     52\u001B[0m \u001B[38;5;28;01mfor\u001B[39;00m epoch \u001B[38;5;129;01min\u001B[39;00m \u001B[38;5;28mrange\u001B[39m(epochs):\n\u001B[0;32m---> 53\u001B[0m     \u001B[43mtm\u001B[49m\u001B[38;5;241;43m.\u001B[39;49m\u001B[43mfit\u001B[49m\u001B[43m(\u001B[49m\u001B[43mgraphs_train\u001B[49m\u001B[43m,\u001B[49m\u001B[43m \u001B[49m\u001B[43mlabels_train\u001B[49m\u001B[43m,\u001B[49m\u001B[43m \u001B[49m\u001B[38;5;241;43m1\u001B[39;49m\u001B[43m,\u001B[49m\u001B[43m \u001B[49m\u001B[38;5;28;43;01mTrue\u001B[39;49;00m\u001B[43m)\u001B[49m\n\u001B[1;32m     55\u001B[0m     \u001B[38;5;66;03m#evaluate on training data and testing data\u001B[39;00m\n\u001B[1;32m     56\u001B[0m     train_prediction \u001B[38;5;241m=\u001B[39m tm\u001B[38;5;241m.\u001B[39mpredict(graphs_train)\n",
      "File \u001B[0;32m/opt/conda/lib/python3.11/site-packages/GraphTsetlinMachine/tm.py:566\u001B[0m, in \u001B[0;36mMultiClassGraphTsetlinMachine.fit\u001B[0;34m(self, graphs, Y, epochs, incremental)\u001B[0m\n\u001B[1;32m    563\u001B[0m \u001B[38;5;28;01mfor\u001B[39;00m i \u001B[38;5;129;01min\u001B[39;00m \u001B[38;5;28mrange\u001B[39m(\u001B[38;5;28mself\u001B[39m\u001B[38;5;241m.\u001B[39mnumber_of_outputs):\n\u001B[1;32m    564\u001B[0m \tencoded_Y[:,i] \u001B[38;5;241m=\u001B[39m np\u001B[38;5;241m.\u001B[39mwhere(Y \u001B[38;5;241m==\u001B[39m i, \u001B[38;5;28mself\u001B[39m\u001B[38;5;241m.\u001B[39mT, \u001B[38;5;241m-\u001B[39m\u001B[38;5;28mself\u001B[39m\u001B[38;5;241m.\u001B[39mT)\n\u001B[0;32m--> 566\u001B[0m \u001B[38;5;28;43mself\u001B[39;49m\u001B[38;5;241;43m.\u001B[39;49m\u001B[43m_fit\u001B[49m\u001B[43m(\u001B[49m\u001B[43mgraphs\u001B[49m\u001B[43m,\u001B[49m\u001B[43m \u001B[49m\u001B[43mencoded_Y\u001B[49m\u001B[43m,\u001B[49m\u001B[43m \u001B[49m\u001B[43mepochs\u001B[49m\u001B[38;5;241;43m=\u001B[39;49m\u001B[43mepochs\u001B[49m\u001B[43m,\u001B[49m\u001B[43m \u001B[49m\u001B[43mincremental\u001B[49m\u001B[38;5;241;43m=\u001B[39;49m\u001B[43mincremental\u001B[49m\u001B[43m)\u001B[49m\n",
      "File \u001B[0;32m/opt/conda/lib/python3.11/site-packages/GraphTsetlinMachine/tm.py:404\u001B[0m, in \u001B[0;36mCommonTsetlinMachine._fit\u001B[0;34m(self, graphs, encoded_Y, epochs, incremental)\u001B[0m\n\u001B[1;32m    387\u001B[0m current_clause_node_output \u001B[38;5;241m=\u001B[39m \u001B[38;5;28mself\u001B[39m\u001B[38;5;241m.\u001B[39m_evaluate(\n\u001B[1;32m    388\u001B[0m \tgraphs,\n\u001B[1;32m    389\u001B[0m \tnp\u001B[38;5;241m.\u001B[39mint32(graphs\u001B[38;5;241m.\u001B[39mnumber_of_graph_nodes[e]),\n\u001B[0;32m   (...)\u001B[0m\n\u001B[1;32m    398\u001B[0m \t\u001B[38;5;28mself\u001B[39m\u001B[38;5;241m.\u001B[39mencoded_X_train_gpu\n\u001B[1;32m    399\u001B[0m )\n\u001B[1;32m    401\u001B[0m \u001B[38;5;66;03m### Learning\u001B[39;00m\n\u001B[1;32m    402\u001B[0m \n\u001B[1;32m    403\u001B[0m \u001B[38;5;66;03m# Select one true node per clause\u001B[39;00m\n\u001B[0;32m--> 404\u001B[0m \u001B[38;5;28;43mself\u001B[39;49m\u001B[38;5;241;43m.\u001B[39;49m\u001B[43mselect_clause_node\u001B[49m\u001B[38;5;241;43m.\u001B[39;49m\u001B[43mprepared_call\u001B[49m\u001B[43m(\u001B[49m\n\u001B[1;32m    405\u001B[0m \u001B[43m\t\u001B[49m\u001B[38;5;28;43mself\u001B[39;49m\u001B[38;5;241;43m.\u001B[39;49m\u001B[43mgrid\u001B[49m\u001B[43m,\u001B[49m\n\u001B[1;32m    406\u001B[0m \u001B[43m\t\u001B[49m\u001B[38;5;28;43mself\u001B[39;49m\u001B[38;5;241;43m.\u001B[39;49m\u001B[43mblock\u001B[49m\u001B[43m,\u001B[49m\n\u001B[1;32m    407\u001B[0m \u001B[43m\t\u001B[49m\u001B[43mg\u001B[49m\u001B[38;5;241;43m.\u001B[39;49m\u001B[43mstate\u001B[49m\u001B[43m,\u001B[49m\n\u001B[1;32m    408\u001B[0m \u001B[43m\t\u001B[49m\u001B[43mcurrent_clause_node_output\u001B[49m\u001B[43m,\u001B[49m\n\u001B[1;32m    409\u001B[0m \u001B[43m\t\u001B[49m\u001B[38;5;28;43mint\u001B[39;49m\u001B[43m(\u001B[49m\u001B[43mgraphs\u001B[49m\u001B[38;5;241;43m.\u001B[39;49m\u001B[43mnumber_of_graph_nodes\u001B[49m\u001B[43m[\u001B[49m\u001B[43me\u001B[49m\u001B[43m]\u001B[49m\u001B[43m)\u001B[49m\u001B[43m,\u001B[49m\n\u001B[1;32m    410\u001B[0m \u001B[43m\t\u001B[49m\u001B[38;5;28;43mself\u001B[39;49m\u001B[38;5;241;43m.\u001B[39;49m\u001B[43mclause_node_gpu\u001B[49m\n\u001B[1;32m    411\u001B[0m \u001B[43m\u001B[49m\u001B[43m)\u001B[49m\n\u001B[1;32m    412\u001B[0m cuda\u001B[38;5;241m.\u001B[39mContext\u001B[38;5;241m.\u001B[39msynchronize()\n\u001B[1;32m    414\u001B[0m \u001B[38;5;66;03m# Select which clauses to update and update weights\u001B[39;00m\n",
      "File \u001B[0;32m/opt/conda/lib/python3.11/site-packages/pycuda/driver.py:547\u001B[0m, in \u001B[0;36m_add_functionality.<locals>.function_prepared_call\u001B[0;34m(func, grid, block, *args, **kwargs)\u001B[0m\n\u001B[1;32m    545\u001B[0m \u001B[38;5;28;01mdef\u001B[39;00m \u001B[38;5;21mfunction_prepared_call\u001B[39m(func, grid, block, \u001B[38;5;241m*\u001B[39margs, \u001B[38;5;241m*\u001B[39m\u001B[38;5;241m*\u001B[39mkwargs):\n\u001B[1;32m    546\u001B[0m     \u001B[38;5;28;01mif\u001B[39;00m \u001B[38;5;28misinstance\u001B[39m(block, \u001B[38;5;28mtuple\u001B[39m):\n\u001B[0;32m--> 547\u001B[0m         \u001B[43mfunc\u001B[49m\u001B[38;5;241;43m.\u001B[39;49m\u001B[43m_set_block_shape\u001B[49m\u001B[43m(\u001B[49m\u001B[38;5;241;43m*\u001B[39;49m\u001B[43mblock\u001B[49m\u001B[43m)\u001B[49m\n\u001B[1;32m    548\u001B[0m     \u001B[38;5;28;01melse\u001B[39;00m:\n\u001B[1;32m    549\u001B[0m         \u001B[38;5;28;01mfrom\u001B[39;00m \u001B[38;5;21;01mwarnings\u001B[39;00m \u001B[38;5;28;01mimport\u001B[39;00m warn\n",
      "\u001B[0;31mKeyboardInterrupt\u001B[0m: "
     ]
    }
   ],
   "source": "#training logic\nfrom GraphTsetlinMachine.tm import MultiClassGraphTsetlinMachine\nimport plotly.graph_objects as go\nfrom IPython.display import display\n\nepochs = 1000000000000\n\ntm = MultiClassGraphTsetlinMachine(\n    number_of_clauses=1000,\n    T=10000,\n    s=0.25,\n    q=1.0,\n    max_included_literals=None,\n    boost_true_positive_feedback=1,\n    number_of_state_bits=12,\n    depth=2,\n    message_size=256,\n    message_bits=2,\n    double_hashing=False,\n    grid=(16 * 13 * 4, 1, 1),\n    block=(128, 1, 1)\n)\n\ntrain_accuracies = []\ntest_accuracies = []\nmax_train_accuracy = 0\nmax_test_accuracy = 0\nmax_train_epoch = 0\nnot_hit_100 = True\naccuracy_counter = 0\n\nfig = go.FigureWidget(\n    data=[\n        go.Scatter(x=[], y=[], mode='lines', name=\"Training Accuracy\"),\n        go.Scatter(x=[], y=[], mode='lines', name=\"Testing Accuracy\"),\n        go.Scatter(x=[], y=[], mode='lines', name=\"Test Regression\", line=dict(dash='dash', color='gray'))\n    ],\n    layout=go.Layout(\n        title=f\"Training and Testing Accuracy, {dimensions}x{dimensions}\",\n        xaxis=dict(title=\"Epoch\"),\n        yaxis=dict(title=\"Accuracy\"),\n        annotations=[\n            dict(text=\"Train: - , Test: -\", x=0.5, y=1.2, xref=\"paper\", yref=\"paper\", showarrow=False,\n                 font=dict(size=18)\n                 )\n        ]\n    )\n)\n\ndisplay(fig)\n\nfor epoch in range(epochs):\n    tm.fit(graphs_train, labels_train, 1, True)\n\n    #evaluate on training data and testing data\n    train_prediction = tm.predict(graphs_train)\n    train_accuracy = (train_prediction == labels_train).mean()\n    test_prediction = tm.predict(graphs_test)\n    test_accuracy = (test_prediction == labels_test).mean()\n\n    if train_accuracy > max_train_accuracy:\n        max_train_accuracy = train_accuracy\n    if test_accuracy > max_test_accuracy:\n        max_test_accuracy = test_accuracy\n\n    train_accuracies.append(train_accuracy)\n    test_accuracies.append(test_accuracy)\n\n    #compute regression line when more than one point\n    x_data = np.arange(1, epoch + 2)\n    if len(test_accuracies) > 1:\n        coeffs = np.polyfit(x_data, test_accuracies, 1)\n        test_poly = np.poly1d(coeffs)\n        reg_y = test_poly(x_data)\n    else:\n        reg_y = [test_accuracies[0]]\n\n    #update the plot\n    with fig.batch_update():\n        fig.data[0].x = list(range(1, epoch + 2))\n        fig.data[0].y = train_accuracies\n        fig.data[1].x = list(range(1, epoch + 2))\n        fig.data[1].y = test_accuracies\n        fig.data[2].x = x_data\n        fig.data[2].y = reg_y\n\n        fig.layout.annotations = [\n            dict(\n                text=f\"Train: {train_accuracy:.3f} (max: {max_train_accuracy:.3f}) , Test: {test_accuracy:.3f} (max: {max_test_accuracy:.3f}). >0.98 Train x 10 at epoch {max_train_epoch}\",\n                x=0.5,\n                y=1.2, xref=\"paper\", yref=\"paper\", showarrow=False, font=dict(size=18)\n            )\n        ]\n        if train_accuracy >= 0.98:\n            accuracy_counter += 1\n\n        if accuracy_counter >= 10 and not_hit_100:\n            max_train_epoch = epoch\n            not_hit_100 = False\n\n        if test_accuracy >= 0.999 and train_accuracy >= 0.999:\n            break\n\n    #print(f\"Epoch {epoch + 1} / {epochs}: Train Accuracy: {train_accuracy:.3f}, Test Accuracy: {test_accuracy:.3f}\")\n"
  }
 ],
 "metadata": {
  "kernelspec": {
   "display_name": "Python 3",
   "language": "python",
   "name": "python3"
  },
  "language_info": {
   "codemirror_mode": {
    "name": "ipython",
    "version": 2
   },
   "file_extension": ".py",
   "mimetype": "text/x-python",
   "name": "python",
   "nbconvert_exporter": "python",
   "pygments_lexer": "ipython2",
   "version": "2.7.6"
  }
 },
 "nbformat": 4,
 "nbformat_minor": 5
}
